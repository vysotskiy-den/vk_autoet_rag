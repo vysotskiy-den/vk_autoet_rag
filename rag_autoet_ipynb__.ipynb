{
  "cells": [
    {
      "cell_type": "markdown",
      "source": [
        "**Проект: VK_AI-помощник для образования (Auto ET)**\n",
        "\n",
        "**Разработка RAG-системы**\n",
        "\n",
        "Работу выполнил: Высоцкий Денис"
      ],
      "metadata": {
        "id": "1R3dpZyLQtlB"
      },
      "id": "1R3dpZyLQtlB"
    },
    {
      "cell_type": "code",
      "source": [
        "#! pip install langchain\n",
        "#! pip install langchain_community\n",
        "#! pip install gigachat\n",
        "#! pip install sentence-transformers\n",
        "#! pip install faiss-cpu\n",
        "#!pip install pymupdf"
      ],
      "metadata": {
        "id": "7cxxB6kRfSHf",
        "collapsed": true
      },
      "id": "7cxxB6kRfSHf",
      "execution_count": null,
      "outputs": []
    },
    {
      "cell_type": "code",
      "source": [
        "import os\n",
        "import torch\n",
        "import numpy as np\n",
        "from getpass import getpass\n",
        "from transformers import pipeline\n",
        "from transformers import AutoTokenizer, AutoModelForCausalLM\n",
        "from sklearn.metrics.pairwise import cosine_similarity\n",
        "from langchain_core.prompts import PromptTemplate\n",
        "from langchain_community.llms import GigaChat\n",
        "from langchain_community.embeddings import HuggingFaceEmbeddings\n",
        "from langchain.text_splitter import RecursiveCharacterTextSplitter\n",
        "from langchain_community.vectorstores import FAISS\n",
        "from langchain.chains import create_retrieval_chain\n",
        "from langchain.chains.combine_documents import create_stuff_documents_chain\n",
        "from langchain_core.prompts import ChatPromptTemplate\n",
        "from langchain_core.vectorstores import VectorStoreRetriever\n",
        "import fitz\n",
        "from langchain.docstore.document import Document\n",
        "from sentence_transformers import SentenceTransformer, util\n",
        "import json\n",
        "from datasets import Dataset\n",
        "import tqdm\n",
        "import requests\n",
        "\n",
        "import warnings\n",
        "warnings.filterwarnings('ignore')"
      ],
      "metadata": {
        "id": "XzYtrSDsjTat"
      },
      "id": "XzYtrSDsjTat",
      "execution_count": null,
      "outputs": []
    },
    {
      "cell_type": "code",
      "execution_count": null,
      "id": "c23f370f",
      "metadata": {
        "id": "c23f370f"
      },
      "outputs": [],
      "source": [
        "tokenizer = AutoTokenizer.from_pretrained(\"ai-forever/rugpt3small_based_on_gpt2\")\n",
        "model = AutoModelForCausalLM.from_pretrained(\"ai-forever/rugpt3small_based_on_gpt2\")"
      ]
    },
    {
      "cell_type": "markdown",
      "id": "6cafe10a",
      "metadata": {
        "id": "6cafe10a"
      },
      "source": [
        "Для работы c гигачатом API был использован secret key\n",
        "\n",
        "[Сбер для разработчиков](https://developers.sber.ru/portal/products/gigachat-api#tariffs)"
      ]
    },
    {
      "cell_type": "code",
      "execution_count": null,
      "id": "e9b1cd63",
      "metadata": {
        "colab": {
          "base_uri": "https://localhost:8080/"
        },
        "id": "e9b1cd63",
        "outputId": "716bcf3d-9ce2-428a-ece5-6492e6aaf169"
      },
      "outputs": [
        {
          "name": "stdout",
          "output_type": "stream",
          "text": [
            "··········\n"
          ]
        }
      ],
      "source": [
        "os.environ[\"GIGACHAT_CREDENTIALS\"] = getpass()"
      ]
    },
    {
      "cell_type": "markdown",
      "source": [
        "Обертка для удобства общения с моделью:"
      ],
      "metadata": {
        "id": "y5UmX_QwZhYP"
      },
      "id": "y5UmX_QwZhYP"
    },
    {
      "cell_type": "code",
      "execution_count": null,
      "id": "175ef19d",
      "metadata": {
        "id": "175ef19d"
      },
      "outputs": [],
      "source": [
        "def giga_answer(template: str) -> str:\n",
        "    '''\n",
        "    Функция для генерации ответа по промпту\n",
        "    '''\n",
        "    llm = GigaChat(verify_ssl_certs=False,\n",
        "                   #max_tokens=64\n",
        "    )\n",
        "\n",
        "    # создаем промпт\n",
        "    prompt = PromptTemplate.from_template(template)\n",
        "    llm_chain = prompt | llm\n",
        "\n",
        "    return llm_chain.invoke(input={})"
      ]
    },
    {
      "cell_type": "code",
      "execution_count": null,
      "id": "f3280c48",
      "metadata": {
        "colab": {
          "base_uri": "https://localhost:8080/",
          "height": 87
        },
        "id": "f3280c48",
        "outputId": "4b0b7558-33e4-4c7b-b416-bb5d28027be6"
      },
      "outputs": [
        {
          "output_type": "stream",
          "name": "stderr",
          "text": [
            "WARNING:langchain_community.llms.gigachat:Giga generation stopped with reason: length\n"
          ]
        },
        {
          "output_type": "execute_result",
          "data": {
            "text/plain": [
              "'Покрытие товаров – это термин, используемый для описания уровня защиты, предоставляемой производителем товара покупателям и потребителям от возможных рисков, связанных с качеством, безопасностью или дефектами продукции. \\n\\n### Основные виды покрытия товаров:\\n1. **Гарантийное'"
            ],
            "application/vnd.google.colaboratory.intrinsic+json": {
              "type": "string"
            }
          },
          "metadata": {},
          "execution_count": 93
        }
      ],
      "source": [
        "giga_answer('Что такое покрытие товаров?')"
      ]
    },
    {
      "cell_type": "markdown",
      "source": [
        "Зальем документы"
      ],
      "metadata": {
        "id": "pRWvNF7wS7R1"
      },
      "id": "pRWvNF7wS7R1"
    },
    {
      "cell_type": "code",
      "source": [
        "url = \"https://www.dropbox.com/scl/fi/fsny9pb5iirbst9wozy70/ML_notes.pdf?rlkey=mlanfbrgg0ceuz34ikt7y95h5&st=ohzffwa8&dl=1\"\n",
        "output_path = \"ML_notes.pdf\"\n",
        "\n",
        "response = requests.get(url)\n",
        "with open(output_path, \"wb\") as f:\n",
        "    f.write(response.content)"
      ],
      "metadata": {
        "id": "hrweoyguSaPo"
      },
      "id": "hrweoyguSaPo",
      "execution_count": 118,
      "outputs": []
    },
    {
      "cell_type": "code",
      "source": [
        "doc = fitz.open(\"ML_notes.pdf\")\n",
        "\n",
        "corpus_docs = [\n",
        "    Document(\n",
        "        page_content=page.get_text(),\n",
        "        metadata={\"page_number\": i}\n",
        "    )\n",
        "    for i, page in enumerate(doc)\n",
        "]\n",
        "print(\"Документов:\", len(corpus_docs))\n",
        "print(corpus_docs[0].page_content[:200], \"…\")"
      ],
      "metadata": {
        "colab": {
          "base_uri": "https://localhost:8080/"
        },
        "id": "5LYxvDIYSjx2",
        "outputId": "64e92749-e1ce-426d-8afa-31b9efb744d8"
      },
      "id": "5LYxvDIYSjx2",
      "execution_count": 121,
      "outputs": [
        {
          "output_type": "stream",
          "name": "stdout",
          "text": [
            "Документов: 186\n",
            "Лекция 1\n",
            "Введение в машинное обучение\n",
            "Е. А. Соколов\n",
            "ФКН ВШЭ\n",
            "5 сентября 2021 г.\n",
            "В последнее время стало появляться всё больше данных. Университеты зна-\n",
            "ют всё про своих студентов — оценки и достижения  …\n"
          ]
        }
      ]
    },
    {
      "cell_type": "markdown",
      "source": [
        "Разделим на чанки"
      ],
      "metadata": {
        "id": "XkOhilxzTEvW"
      },
      "id": "XkOhilxzTEvW"
    },
    {
      "cell_type": "code",
      "source": [
        "splitter = RecursiveCharacterTextSplitter(\n",
        "    chunk_size=512, chunk_overlap=100\n",
        ")\n",
        "\n",
        "docs = splitter.split_documents(corpus_docs)\n",
        "print(\"Всего чанков:\", len(docs))"
      ],
      "metadata": {
        "colab": {
          "base_uri": "https://localhost:8080/"
        },
        "id": "biu-SeoNvl6M",
        "outputId": "4a72d325-a292-4062-8d88-c5804951546f"
      },
      "id": "biu-SeoNvl6M",
      "execution_count": null,
      "outputs": [
        {
          "output_type": "stream",
          "name": "stdout",
          "text": [
            "Чанков: 850\n"
          ]
        }
      ]
    },
    {
      "cell_type": "markdown",
      "source": [
        "В качестве эмбеддера использовался `ruElectra-small`. Векторная БД - `FAISS`"
      ],
      "metadata": {
        "id": "8xYCAlv6A_Pf"
      },
      "id": "8xYCAlv6A_Pf"
    },
    {
      "cell_type": "code",
      "source": [
        "embed_model = HuggingFaceEmbeddings(model_name='ai-forever/ruElectra-small')"
      ],
      "metadata": {
        "colab": {
          "base_uri": "https://localhost:8080/"
        },
        "id": "T6auRNRITXuL",
        "outputId": "f4d06aba-4afa-49d9-e92b-25b8cc4c5dfc"
      },
      "id": "T6auRNRITXuL",
      "execution_count": null,
      "outputs": [
        {
          "output_type": "stream",
          "name": "stderr",
          "text": [
            "WARNING:sentence_transformers.SentenceTransformer:No sentence-transformers model found with name ai-forever/ruElectra-small. Creating a new one with mean pooling.\n"
          ]
        }
      ]
    },
    {
      "cell_type": "code",
      "execution_count": null,
      "id": "de26ede8",
      "metadata": {
        "colab": {
          "base_uri": "https://localhost:8080/"
        },
        "id": "de26ede8",
        "outputId": "8635b64a-4320-4385-bb92-7e5afa8648f0"
      },
      "outputs": [
        {
          "output_type": "execute_result",
          "data": {
            "text/plain": [
              "850"
            ]
          },
          "metadata": {},
          "execution_count": 69
        }
      ],
      "source": [
        "db = FAISS.from_documents(docs, embed_model) # строим векторную базу\n",
        "\n",
        "db.index.ntotal # документов в нашей базе"
      ]
    },
    {
      "cell_type": "markdown",
      "source": [
        "Экспериментальный промпт"
      ],
      "metadata": {
        "id": "UU7gdBwaYfvu"
      },
      "id": "UU7gdBwaYfvu"
    },
    {
      "cell_type": "code",
      "execution_count": null,
      "id": "77dad6a7",
      "metadata": {
        "colab": {
          "base_uri": "https://localhost:8080/"
        },
        "id": "77dad6a7",
        "outputId": "dc2a62d9-ab70-48c2-d6b2-deb273c67416"
      },
      "outputs": [
        {
          "output_type": "execute_result",
          "data": {
            "text/plain": [
              "[Document(id='8c9ac398-e6e9-487f-b610-9842edfb87fd', metadata={'page_number': 61}, page_content='но:\\nhamming(a, X) = 1\\nℓ\\nℓ\\nX\\ni=1\\n|Yi \\\\ Zi| + |Zi \\\\ Yi|\\nK\\n.'),\n",
              " Document(id='6865acbd-b986-4085-b174-313bac2bc6a3', metadata={'page_number': 125}, page_content='ших степеней. Например, отношение веса при мономе степени m−1 к весу при мономе\\nпервой степени равно\\ns\\nCm−1\\nm\\nR\\nC1mRm−1 =\\nr\\n1\\nRm−2,'),\n",
              " Document(id='8ed610e1-a2a9-4a42-afd0-1f9346152408', metadata={'page_number': 126}, page_content='ца\\nG =\\n\\x14\\nexp\\n\\x12\\n−∥xi −xj∥2\\n2σ2\\n\\x13\\x15ℓ\\ni,j=1\\nявляется невырожденной при σ > 0.'),\n",
              " Document(id='61d07351-2f37-4d91-b9fd-35008f820744', metadata={'page_number': 182}, page_content='только самые популярные товары, а большая часть ассортимента игнорируется. В\\nкачестве простейшей метрики можно использовать покрытие каталога, которые вы-\\nчисляется как доля товаров, порекомендованных хотя бы один раз.')]"
            ]
          },
          "metadata": {},
          "execution_count": 71
        }
      ],
      "source": [
        "query = '''\n",
        "Что такое покрытие товаров?\n",
        "'''\n",
        "\n",
        "docs = db.similarity_search(query)\n",
        "docs #"
      ]
    },
    {
      "cell_type": "markdown",
      "source": [
        "Эксперимент с системным промптом"
      ],
      "metadata": {
        "id": "8ajkhGatYEN0"
      },
      "id": "8ajkhGatYEN0"
    },
    {
      "cell_type": "code",
      "execution_count": null,
      "id": "393ee90d",
      "metadata": {
        "colab": {
          "base_uri": "https://localhost:8080/"
        },
        "id": "393ee90d",
        "outputId": "67c22aa6-c1ae-4372-c375-3901b8df969f"
      },
      "outputs": [
        {
          "output_type": "execute_result",
          "data": {
            "text/plain": [
              "{'input': '\\nЧто такое покрытие товаров?\\n',\n",
              " 'context': [Document(id='8c9ac398-e6e9-487f-b610-9842edfb87fd', metadata={'page_number': 61}, page_content='но:\\nhamming(a, X) = 1\\nℓ\\nℓ\\nX\\ni=1\\n|Yi \\\\ Zi| + |Zi \\\\ Yi|\\nK\\n.'),\n",
              "  Document(id='6865acbd-b986-4085-b174-313bac2bc6a3', metadata={'page_number': 125}, page_content='ших степеней. Например, отношение веса при мономе степени m−1 к весу при мономе\\nпервой степени равно\\ns\\nCm−1\\nm\\nR\\nC1mRm−1 =\\nr\\n1\\nRm−2,'),\n",
              "  Document(id='8ed610e1-a2a9-4a42-afd0-1f9346152408', metadata={'page_number': 126}, page_content='ца\\nG =\\n\\x14\\nexp\\n\\x12\\n−∥xi −xj∥2\\n2σ2\\n\\x13\\x15ℓ\\ni,j=1\\nявляется невырожденной при σ > 0.'),\n",
              "  Document(id='61d07351-2f37-4d91-b9fd-35008f820744', metadata={'page_number': 182}, page_content='только самые популярные товары, а большая часть ассортимента игнорируется. В\\nкачестве простейшей метрики можно использовать покрытие каталога, которые вы-\\nчисляется как доля товаров, порекомендованных хотя бы один раз.')],\n",
              " 'answer': 'Покрытие товаров — это метрика, которая вычисляется как доля товаров, порекомендованных хотя бы один раз. Эта метрика позволяет оценить, насколько широкий ассортимент товаров охвачен рекомендательной системой.'}"
            ]
          },
          "metadata": {},
          "execution_count": 106
        }
      ],
      "source": [
        "retriever = VectorStoreRetriever(vectorstore=db)\n",
        "\n",
        "system_prompt = (\n",
        "    '''\n",
        "    Ты помощник для студента.\n",
        "    Тебе задают вопрос, а ты должен правильно на него ответить.\n",
        "    Также тебе будет даны документы, из которых\n",
        "    ты должен брать нужную информацию и с ее помощью отвечать на вопросы.\n",
        "    Если в предоставленных текстах нет ответа, отвечай по точному шаблону:\n",
        "    Невозможно однозначно ответить на данный вопрос\n",
        "\n",
        "    Информация из текстов: {context}\n",
        "    '''\n",
        ")\n",
        "prompt = ChatPromptTemplate.from_messages(\n",
        "    [\n",
        "        (\"system\", system_prompt),\n",
        "        (\"human\", \"{input}\"),\n",
        "    ]\n",
        ")\n",
        "llm = GigaChat(verify_ssl_certs=False,\n",
        "               #max_tokens=64 #не успел разобраться, как грамотно\n",
        "               #выставить ограничения для органического ответа\n",
        "               )\n",
        "question_answer_chain = create_stuff_documents_chain(llm, prompt)\n",
        "chain = create_retrieval_chain(retriever, question_answer_chain)\n",
        "\n",
        "query = '''\n",
        "Что такое покрытие товаров?\n",
        "'''\n",
        "\n",
        "chain.invoke({\"input\": query})"
      ]
    },
    {
      "cell_type": "markdown",
      "id": "891bef53",
      "metadata": {
        "id": "891bef53"
      },
      "source": [
        "Помимо ответа, подтянулись еще и фрагменты источников, которые использовались при генерации. Для удобства обернем через функцию:"
      ]
    },
    {
      "cell_type": "code",
      "execution_count": null,
      "id": "8fac651e",
      "metadata": {
        "id": "8fac651e"
      },
      "outputs": [],
      "source": [
        "def giga_rag_answer(query):\n",
        "    return chain.invoke({\"input\": query})['answer']"
      ]
    },
    {
      "cell_type": "code",
      "source": [
        "giga_rag_answer('Что такое покрытие товаров?')"
      ],
      "metadata": {
        "colab": {
          "base_uri": "https://localhost:8080/",
          "height": 53
        },
        "id": "1G8CwRmZAHH1",
        "outputId": "08be6ab8-2aa4-42f8-b2e1-78b51deeff67"
      },
      "id": "1G8CwRmZAHH1",
      "execution_count": null,
      "outputs": [
        {
          "output_type": "execute_result",
          "data": {
            "text/plain": [
              "'Покрытие товаров — это метрика, которая показывает долю товаров из общего ассортимента, которые были рекомендованы хотя бы один раз. Проще говоря, это процент товаров, попавших в список рекомендаций.'"
            ],
            "application/vnd.google.colaboratory.intrinsic+json": {
              "type": "string"
            }
          },
          "metadata": {},
          "execution_count": 107
        }
      ]
    },
    {
      "cell_type": "code",
      "source": [
        "giga_rag_answer('Что такое рекомендательная система?')"
      ],
      "metadata": {
        "colab": {
          "base_uri": "https://localhost:8080/",
          "height": 87
        },
        "id": "RspCz6KwF4-n",
        "outputId": "1886e21a-ce69-4813-9ac1-2cb65f1f7491"
      },
      "id": "RspCz6KwF4-n",
      "execution_count": null,
      "outputs": [
        {
          "output_type": "execute_result",
          "data": {
            "text/plain": [
              "'Рекомендательная система – это алгоритм, который анализирует предпочтения пользователя (например, какие товары он покупал ранее или что смотрел) и предлагает ему новые элементы, которые могут быть интересны на основе его предыдущей активности. Эти системы широко используются в интернет-магазинах, стриминговых сервисах, социальных сетях и других платформах для повышения удобства пользователей и увеличения продаж.'"
            ],
            "application/vnd.google.colaboratory.intrinsic+json": {
              "type": "string"
            }
          },
          "metadata": {},
          "execution_count": 108
        }
      ]
    },
    {
      "cell_type": "code",
      "source": [
        "giga_rag_answer('Что такое новизна в рекомендательных системамх?')"
      ],
      "metadata": {
        "colab": {
          "base_uri": "https://localhost:8080/",
          "height": 70
        },
        "id": "2jqwTlrRGP-J",
        "outputId": "8a119ab9-032c-4ad9-f52e-440c15d9067d"
      },
      "id": "2jqwTlrRGP-J",
      "execution_count": null,
      "outputs": [
        {
          "output_type": "execute_result",
          "data": {
            "text/plain": [
              "'В контексте рекомендательных систем новизна (или freshness) относится к тому, насколько недавно добавленный или обновленный контент предлагается пользователям. Рекомендательные системы стремятся показывать пользователям наиболее актуальные и свежие элементы, что помогает поддерживать интерес пользователей и улучшать их опыт взаимодействия с системой.'"
            ],
            "application/vnd.google.colaboratory.intrinsic+json": {
              "type": "string"
            }
          },
          "metadata": {},
          "execution_count": 110
        }
      ]
    },
    {
      "cell_type": "markdown",
      "source": [
        "Валидация RAG c попощью метрики accuracy, основанной на косинусном расстоянии идеального ответа и модельного"
      ],
      "metadata": {
        "id": "1VaR_WSIHYG4"
      },
      "id": "1VaR_WSIHYG4"
    },
    {
      "cell_type": "code",
      "source": [
        "model = SentenceTransformer(\"sentence-transformers/paraphrase-multilingual-MiniLM-L12-v2\")"
      ],
      "metadata": {
        "colab": {
          "base_uri": "https://localhost:8080/",
          "height": 337,
          "referenced_widgets": [
            "dca9be44501c42e59c77c8b48677bd45",
            "411bb4b06b004546bd142f7c599930b8",
            "078d1782712b4dcab708246c1a7c5f5b",
            "ef91a9f50969498aa4713726b7bf2906",
            "999cb67980b74bb38b06388d5edd900d",
            "e4197a51528d4378bf5b39b4bde51bed",
            "9818ab839ff84a6cb87637d71720a61d",
            "10fa2c8e307c41cfbda8ee2effd19fef",
            "9e54d99efdb34c5c8fdfe76647e9de10",
            "9769151f54864919abce8305d289ec39",
            "fdf1bcfe3be148458a3fb14760e0855b",
            "169c98696ec44e95bbebeeb940376810",
            "46e26a08539c492d8b6c706a6f711689",
            "62f0166c4591441ca34254a9db90a757",
            "a5cdeb8be47845a4b14afc3706c42b2a",
            "1f35c4f51df94ebb9333db516f870f2d",
            "79fd1370260b4837b5f9dbac9d8f0193",
            "da0d45e131fe4a849ca0b089bff51b93",
            "bfd14b1eb39a4df49b8a98eec924147b",
            "b9848a6df49e47038b99da23055162b2",
            "a2e6ba3d3de04d558700f941e3d2ef2e",
            "cb1adefd90b344499409d8cdd1d1c8e7",
            "1a014f0fba764170862b52f6c85cdc2e",
            "81e47c707d6441f2a7d26c977fda9659",
            "5bd083a7114b4d01bf7d2b511ff93d39",
            "3a0b922fd9364927bc3b816331da15d4",
            "5fc4633a08cb45c0a63cf69ed3823cdc",
            "ceb8aef4f16645ffb9909288feb4ef22",
            "76a6d22777404a54a210c0dc71331623",
            "2f648d0d05b24b4ab490f9daab312b05",
            "3955e2c5f7af4bd2b6e0a82d0ef18d56",
            "9dd2674504454588b3efdab09c96c06a",
            "7731fda23d314b32a5e6e70ebdef058d",
            "573fd87e3b3c4e8d8d49794ec81fd817",
            "a45b28887813490c96303efa1c0faefe",
            "34bd31af6317449582d73e09db6c9587",
            "c18b851414bd45c882e103e1027a3175",
            "72d14278f9ae4e37bcb3986a94e4d79f",
            "b17732fcc6774ae5a5bd285dccb4fe72",
            "6939f3f066cf47a0a5f1bb2c33bdb8ef",
            "038acfcd7160491399da213f011768bc",
            "138172e214264d2f847335eb0a40d63c",
            "523d0587f576439ba97445b989a559c1",
            "e7674e3d22954464a3adc0f33b7530f3",
            "cc2d30384dd54b3fb338ded6bf79a7d9",
            "bbfe016ca592410aaa3dd4cabf9638b2",
            "2c9555c259a949c39515df2c57d03950",
            "a872dc333e3e42d8b0039d54fed6b694",
            "3d633e58e60740ea887d0bcd9c663d83",
            "d7ec25d66b1d41c4841fddfe30ef6ca8",
            "96738dcfcc0d45028eef184c8170da0d",
            "acff9211ea644252a090f15a685df8fa",
            "c4fc67667667450baf3196f413838bba",
            "f1632bad180e4d5a96b6a3dd6796a012",
            "8fd6f3111c6e4f65a73c94badd20f176",
            "86ccc3b4d6694bc0a009098fb4995d2a",
            "6b6fa9ba3e3c418db84714688bd08b14",
            "3fdabaf459bf4866afb8927f567fda70",
            "dd14756d47db44629a59d69bbd2efc99",
            "c5c00c2fa2d545e9a8e7ff3687b47086",
            "cc73085c7d4e4b629fb6c30cae170115",
            "e54367952c214505a6bdef9b4e5e1860",
            "574f61ea21d34800874b71c93f93c6ee",
            "7d0c8644a1254f4280d251ba61cf02b4",
            "3d12bf464d5d4273a4c43afaeeaaaadc",
            "0df4dfcca0054e28bfdd9701322d1df1",
            "3a5ae16b9fc148b7befe8c3d539db360",
            "73d1e85ccb374e05893fc67f87fb7e5c",
            "b0ab5616165b4c2ea3589ea5dfeda64d",
            "d58a02c271194c0485805d5393cb0bcd",
            "2621132299b94929ac9fb9ef6478262e",
            "1be085c11b444e68b557a634dc46b61d",
            "e516ac1817e54922b2b776cfdbff505d",
            "fa220337257e47dca5c6183c3c0cc80b",
            "b0f9f51db6884bd6ba519f90dde35761",
            "720e076ac8944c6f87edabb348c80c6f",
            "3b06cbd96b7c4a5cb79523be6e6b132b",
            "16578a8572a64ea98fd8187dc8e4527e",
            "4beb8810f7ca45578a0330de71425919",
            "8159d207602b4d1e94ca5fe815b8ce3b",
            "b970361c96ca48e6b3c826454519b755",
            "854a3edc15d1415b84e1d45446167d89",
            "6bdddb76837c40a48b139dc507f40515",
            "778f48b8606d4df59810f690bf0fec2b",
            "631f8d0de41843e4aa816431c26b1155",
            "dd46915816fa4ba9a5f7b17fa78a8465",
            "67f68b7992264de9b6168d5083ba8bc4",
            "37d7b28728e74cd2a8236c2477a170bd",
            "e63314387324482488bc23813edf0822",
            "2c773e8a0c7d40069b5aa18264838b06",
            "bb9dad3bfc4f4fd9b732983f485c0307",
            "f008a52489a74e2c92e466edbf79fb3c",
            "8af3828a35cf404cb5a49ced4151a756",
            "2b44c8e811ac43a6a35b47a3cbe124cc",
            "8fd1be97eed349039ae293e62338d98d",
            "51dd9a9ac1a345bd9b8f388f98a5940f",
            "15d1bbba433642e4a7318d928baaa153",
            "6e8392d314be4767b2fa8e712553a5f3",
            "d6532151eef647ee84196b3664c00c31",
            "0b1f7cc13f0f4eaa90ce43e5c3005926",
            "95cbbb937a50420c8eb61d5f451a55e1",
            "06bb38a7174c4d97b98a805c361c9d3b",
            "977e58e7978e4345825945401b3364dc",
            "407a9b0e624e402a8c01c67cc7eab036",
            "00a7b224812a4cc9b179fd51f002825a",
            "8d630c63ddef4e7f8e43706d15ccb160",
            "144276f69857478d9bd67c9d9de19567",
            "d4fdf52385be47469bc64a323a4a90a8",
            "7557e8550d864842a42fb61ae0525541",
            "3686ee6c884a42d192cc3265bf32bae2"
          ]
        },
        "id": "lf5PAIyC-w6P",
        "outputId": "22f6a755-3d16-43fa-dc0c-5bbc4ef55de9"
      },
      "id": "lf5PAIyC-w6P",
      "execution_count": null,
      "outputs": [
        {
          "output_type": "display_data",
          "data": {
            "text/plain": [
              "modules.json:   0%|          | 0.00/229 [00:00<?, ?B/s]"
            ],
            "application/vnd.jupyter.widget-view+json": {
              "version_major": 2,
              "version_minor": 0,
              "model_id": "dca9be44501c42e59c77c8b48677bd45"
            }
          },
          "metadata": {}
        },
        {
          "output_type": "display_data",
          "data": {
            "text/plain": [
              "config_sentence_transformers.json:   0%|          | 0.00/122 [00:00<?, ?B/s]"
            ],
            "application/vnd.jupyter.widget-view+json": {
              "version_major": 2,
              "version_minor": 0,
              "model_id": "169c98696ec44e95bbebeeb940376810"
            }
          },
          "metadata": {}
        },
        {
          "output_type": "display_data",
          "data": {
            "text/plain": [
              "README.md: 0.00B [00:00, ?B/s]"
            ],
            "application/vnd.jupyter.widget-view+json": {
              "version_major": 2,
              "version_minor": 0,
              "model_id": "1a014f0fba764170862b52f6c85cdc2e"
            }
          },
          "metadata": {}
        },
        {
          "output_type": "display_data",
          "data": {
            "text/plain": [
              "sentence_bert_config.json:   0%|          | 0.00/53.0 [00:00<?, ?B/s]"
            ],
            "application/vnd.jupyter.widget-view+json": {
              "version_major": 2,
              "version_minor": 0,
              "model_id": "573fd87e3b3c4e8d8d49794ec81fd817"
            }
          },
          "metadata": {}
        },
        {
          "output_type": "display_data",
          "data": {
            "text/plain": [
              "config.json:   0%|          | 0.00/645 [00:00<?, ?B/s]"
            ],
            "application/vnd.jupyter.widget-view+json": {
              "version_major": 2,
              "version_minor": 0,
              "model_id": "cc2d30384dd54b3fb338ded6bf79a7d9"
            }
          },
          "metadata": {}
        },
        {
          "output_type": "display_data",
          "data": {
            "text/plain": [
              "model.safetensors:   0%|          | 0.00/471M [00:00<?, ?B/s]"
            ],
            "application/vnd.jupyter.widget-view+json": {
              "version_major": 2,
              "version_minor": 0,
              "model_id": "86ccc3b4d6694bc0a009098fb4995d2a"
            }
          },
          "metadata": {}
        },
        {
          "output_type": "display_data",
          "data": {
            "text/plain": [
              "tokenizer_config.json:   0%|          | 0.00/480 [00:00<?, ?B/s]"
            ],
            "application/vnd.jupyter.widget-view+json": {
              "version_major": 2,
              "version_minor": 0,
              "model_id": "3a5ae16b9fc148b7befe8c3d539db360"
            }
          },
          "metadata": {}
        },
        {
          "output_type": "display_data",
          "data": {
            "text/plain": [
              "tokenizer.json:   0%|          | 0.00/9.08M [00:00<?, ?B/s]"
            ],
            "application/vnd.jupyter.widget-view+json": {
              "version_major": 2,
              "version_minor": 0,
              "model_id": "16578a8572a64ea98fd8187dc8e4527e"
            }
          },
          "metadata": {}
        },
        {
          "output_type": "display_data",
          "data": {
            "text/plain": [
              "special_tokens_map.json:   0%|          | 0.00/239 [00:00<?, ?B/s]"
            ],
            "application/vnd.jupyter.widget-view+json": {
              "version_major": 2,
              "version_minor": 0,
              "model_id": "e63314387324482488bc23813edf0822"
            }
          },
          "metadata": {}
        },
        {
          "output_type": "display_data",
          "data": {
            "text/plain": [
              "config.json:   0%|          | 0.00/190 [00:00<?, ?B/s]"
            ],
            "application/vnd.jupyter.widget-view+json": {
              "version_major": 2,
              "version_minor": 0,
              "model_id": "0b1f7cc13f0f4eaa90ce43e5c3005926"
            }
          },
          "metadata": {}
        }
      ]
    },
    {
      "cell_type": "code",
      "source": [
        "#сет из 20 проверенных вопросов\n",
        "testset = [\n",
        "    {\"question\": \"Что такое покрытие товаров?\", \"answers\": [\"доля товаров, порекомендованных хотя бы один раз\"]},\n",
        "    {\"question\": \"Что такое алгоритм один против всех?\", \"answers\": [\"метод классификации, при котором каждый класс рассматривается как отдельный бинарный классификатор\"]},\n",
        "    {\"question\": \"Какие есть методы оптимизации второго порядка?\", \"answers\": [\"метод Ньютона, квази-Ньютоновские методы\"]},\n",
        "    {\"question\": \"На чем основан DBSCAN?\", \"answers\": [\"алгоритм основан на плотности кластеров, где кластеры формируются на основе плотности точек в пространстве\"]},\n",
        "    {\"question\": \"Как работает стекинг?\", \"answers\": [\"метод ансамблирования, в котором прогнозы алгоритмов объявляются новыми признаками, и поверх них обучается ещё один алгоритм (который называют мета-алгоритмом)\"]},\n",
        "    {\"question\": \"Что такое новизна в контексте рекомендательных систем?\", \"answers\": [\"доля новых для пользователя товаров среди рекомендованных\"]},\n",
        "    {\"question\": \"Что такое задача кластеризации?\", \"answers\": [\"задача разделения объектов на группы, обладающие некоторыми свойствами. Примером может служить кластеризация документов из электронной библиотеки\"]},\n",
        "    {\"question\": \"Какие есть способы оценки градиента?\", \"answers\": [\"Есть несколько способов: Стохастический градиентный спуск SGD, средний стохастический градиен SAG, а также модификации: Метод инерции (momentum), AdaGrad и RMSprop, Adam\"]},\n",
        "    {\"question\": \"Какое основное свойство логистической регрессии?\", \"answers\": [\"Основным свойством является тот факт, что метод корректно оценивает вероятность принадлежности объекта к каждому из классов.\"]},\n",
        "    {\"question\": \"Для чего используется метод главных компонент?\", \"answers\": [\"Часто возникает задача уменьшения размерности признакового пространства.\"]},\n",
        "    {\"question\": \"Для чего используется метод Isolation Forest?\", \"answers\": [\"Подход для обнаружения аномалий.\"]},\n",
        "    {\"question\": \"Что такое факторизационная машина?\", \"answers\": [\"Модель, позволяющая строить рекомендательные модели на основе большого количества категориальных и вещественных признаков.\"]},\n",
        "    {\"question\": \"Какую задачу решает EM-алгоритм?\", \"answers\": [\"Решает задачу максимизации полного правоподобия путем попеременной оптимизации по параметрам и по скрытым переменным.\"]},\n",
        "    {\"question\": \"Какие модели обучения представлений (representation learning) рассматриваются в документах?\", \"answers\": [\"Разберается word2vec - способ обучения представлений для слов.\"]},\n",
        "    {\"question\": \"Как называется модель, в которой зависимость ищется как линейная комбинация нелинейных функций от выборки?\", \"answers\": [\"Такая модель называется называется линейная модель над базисными функциями\"]},\n",
        "    {\"question\": \"Какие есть популярные методы построения деревьев?\", \"answers\": [\"ID3 (использует энтропийный критерий), C4.5 (использует критерий Gain Ratio - нормированный энтропийный критерий), CART (использует критерий Джини).\"]},\n",
        "    {\"question\": \"Что такое F-мера?\", \"answers\": [\"Метрика качества, равная гармоническому среднему между precision и recall\"]},\n",
        "    {\"question\": \"Что такое регуляризация?\", \"answers\": [\"Штраф для контроля сложности модели\"]},\n",
        "    {\"question\": \"Недостатки использования аналитической формулы для весов линейной регрессии?\", \"answers\": [\"Обращение матрицы - сложная операция; матрица может быть вырожденной\"]},\n",
        "    {\"question\": \"Что такое градиент функции?\", \"answers\": [\"Это вектор его частных производных\"]}\n",
        "    # не проверял наличие следующей информации в документе:\n",
        "    #{\"question\": \"Как работает градиентный бустинг?\", \"answers\": [\"метод ансамблирования, где новые модели обучаются для коррекции ошибок предыдущих моделей\"]},\n",
        "    #{\"question\": \"Что такое переобучение модели?\", \"answers\": [\"ситуация, когда модель слишком хорошо подстраивается под обучающий набор данных и теряет способность обобщать на новых данных\"]},\n",
        "    #{\"question\": \"Что такое рекуррентные нейронные сети?\", \"answers\": [\"тип нейронных сетей, которые используют циклические соединения для обработки последовательных данных\"]},\n",
        "    #{\"question\": \"Как работает алгоритм случайного леса?\", \"answers\": [\"метод ансамблирования, при котором несколько деревьев решений обучаются на случайных подмножествах данных, а их результаты комбинируются\"]},\n",
        "    #{\"question\": \"Что такое метод главных компонент?\", \"answers\": [\"метод понижения размерности, который ищет новые переменные, называемые главными компонентами, которые объясняют наибольшую часть вариации в данных\"]},\n",
        "    #{\"question\": \"Что такое градиентный спуск?\", \"answers\": [\"алгоритм оптимизации, который используется для минимизации функции потерь, итерационно обновляя параметры модели по направлению отрицательного градиента\"]},\n",
        "    #{\"question\": \"Что такое регуляризация в машинном обучении?\", \"answers\": [\"метод, используемый для предотвращения переобучения, который добавляет штраф за сложность модели\"]},\n",
        "    #{\"question\": \"Какие бывают типы машинного обучения?\", \"answers\": [\"обучение с учителем, обучение без учителя, обучение с подкреплением\"]},\n",
        "    #{\"question\": \"Что такое метод наименьших квадратов?\", \"answers\": [\"метод оптимизации, используемый для нахождения параметров, минимизирующих сумму квадратов отклонений между предсказаниями и истинными значениями\"]},\n",
        "    #{\"question\": \"Как работает метод опорных векторов?\", \"answers\": [\"метод классификации, который ищет оптимальную гиперплоскость, разделяющую данные на классы с максимальным зазором\"]},\n",
        "    #{\"question\": \"Что такое ансамблирование моделей?\", \"answers\": [\"метод, при котором несколько моделей комбинируются для улучшения общей производительности и повышения точности\"]},\n",
        "    #{\"question\": \"Что такое кластеризация?\", \"answers\": [\"метод машинного обучения, цель которого — разделить данные на группы (кластеры), где элементы внутри группы более похожи друг на друга\"]},\n",
        "    #{\"question\": \"Как работает алгоритм K-means?\", \"answers\": [\"метод кластеризации, который разделяет данные на K кластеров, минимизируя внутрикластерное расстояние\"]},\n",
        "    #{\"question\": \"Что такое методы линейной регрессии?\", \"answers\": [\"методы, которые моделируют зависимость между переменными с помощью линейной функции\"]},\n",
        "    #{\"question\": \"Что такое нейронная сеть?\", \"answers\": [\"модель машинного обучения, состоящая из нейронов, организованных в слои, и используемая для решения различных задач, таких как классификация и регрессия\"]},\n",
        "    #{\"question\": \"Что такое обучение без учителя?\", \"answers\": [\"метод обучения, при котором модель пытается найти структуру в данных без использования меток\"]},\n",
        "    #{\"question\": \"Что такое сверточная нейронная сеть?\", \"answers\": [\"тип нейронной сети, который используется для обработки изображений и других данных с сеточной структурой, применяя свертки\"]},\n",
        "    #{\"question\": \"Что такое метод ближайшего соседа?\", \"answers\": [\"метод классификации, в котором объект классифицируется на основе классов ближайших к нему объектов\"]},\n",
        "    #{\"question\": \"Что такое методы оптимизации?\", \"answers\": [\"методы, используемые для поиска наилучших параметров модели, которые минимизируют ошибку на обучающем наборе\"]},\n",
        "    #{\"question\": \"Что такое вычислительная сложность алгоритма?\", \"answers\": [\"характеристика, описывающая количество ресурсов (время или память), необходимых для выполнения алгоритма\"]},\n",
        "    #{\"question\": \"Что такое рекуррентная нейронная сеть?\", \"answers\": [\"тип нейронной сети, в которой используются циклические соединения для работы с последовательными данными\"]},\n",
        "    #{\"question\": \"Что такое сверточная нейронная сеть?\", \"answers\": [\"нейронная сеть, которая использует свертки для обработки изображений и видеопотоков\"]},\n",
        "    #{\"question\": \"Что такое обобщение в машинном обучении?\", \"answers\": [\"способность модели давать точные прогнозы на данных, которые она не видела во время обучения\"]},\n",
        "    #{\"question\": \"Что такое байесовский классификатор?\", \"answers\": [\"метод классификации, основанный на теореме Байеса, который оценивает вероятности классов на основе данных\"]},\n",
        "    #{\"question\": \"Как работает метод случайного леса?\", \"answers\": [\"метод ансамблирования, при котором несколько деревьев решений обучаются на случайных подмножествах данных, а их результаты комбинируются\"]},\n",
        "    #{\"question\": \"Что такое проблема многократного коллизии?\", \"answers\": [\"проблема, возникающая в алгоритмах поиска, когда два элемента данных оказываются в одной и той же ячейке в хеш-таблице\"]},\n",
        "    #{\"question\": \"Как работает метод главных компонент?\", \"answers\": [\"метод уменьшения размерности, который находит новые переменные (главные компоненты), которые объясняют наибольшую часть вариации в данных\"]},\n",
        "    #{\"question\": \"Что такое перцептрон?\", \"answers\": [\"простая модель нейронной сети, используемая для решения задач классификации\"]},\n",
        "    #{\"question\": \"Что такое поддержка гиперплоскости?\", \"answers\": [\"пространство, которое разделяет данные между двумя классами в методах опорных векторов\"]},\n",
        "    #{\"question\": \"Как работает многослойный перцептрон?\", \"answers\": [\"нейронная сеть, состоящая из нескольких слоев, которая может решать сложные задачи классификации\"]},\n",
        "    #{\"question\": \"Как работает алгоритм градиентного спуска?\", \"answers\": [\"алгоритм оптимизации, который минимизирует функцию потерь путем корректировки параметров модели на каждом шаге\"]},\n",
        "    #{\"question\": \"Что такое регрессия?\", \"answers\": [\"метод машинного обучения, используемый для предсказания числовых значений\"]},\n",
        "    #{\"question\": \"Что такое машинное обучение?\", \"answers\": [\"метод, при котором алгоритмы обучаются на данных для выполнения задач без явного программирования\"]},\n",
        "    #{\"question\": \"Что такое нейронная сеть?\", \"answers\": [\"модель машинного обучения, которая состоит из слоев нейронов, имитирующих работу человеческого мозга\"]},\n",
        "    #{\"question\": \"Что такое градиентный бустинг?\", \"answers\": [\"метод ансамблирования, при котором слабые модели комбинируются в одну сильную модель\"]},\n",
        "    #{\"question\": \"Что такое обучение с подкреплением?\", \"answers\": [\"метод машинного обучения, при котором агент обучается на основе вознаграждений и наказаний за свои действия\"]},\n",
        "    #{\"question\": \"Что такое обучение с учителем?\", \"answers\": [\"метод машинного обучения, при котором модель обучается на размеченных данных\"]},\n",
        "    #{\"question\": \"Что такое метод наименьших квадратов?\", \"answers\": [\"метод оптимизации, который минимизирует сумму квадратов отклонений между предсказанными и фактическими значениями\"]},\n",
        "    #{\"question\": \"Как работает линейная регрессия?\", \"answers\": [\"метод статистического анализа, который находит линейную зависимость между переменными\"]},\n",
        "    #{\"question\": \"Что такое случайный лес?\", \"answers\": [\"метод ансамблирования, который использует несколько деревьев решений для повышения точности классификации\"]}\n",
        "]\n"
      ],
      "metadata": {
        "id": "RnLenI-BHusZ"
      },
      "id": "RnLenI-BHusZ",
      "execution_count": null,
      "outputs": []
    },
    {
      "cell_type": "code",
      "source": [
        "correct, total = 0, 0\n",
        "threshold = 0.5  # повышение порога несправедливо ухудшало accuracy;\n",
        "                 # считай 0.5 - эвристика\n",
        "\n",
        "print(\"Тестирование:\\n\")\n",
        "for sample in tqdm.tqdm(testset):\n",
        "    q, gold = sample[\"question\"], sample[\"answers\"]\n",
        "\n",
        "    pred = giga_rag_answer(q)\n",
        "    gold_text = gold[0]  # можно расширить под несколько синонимичных вариантов\n",
        "\n",
        "    # косинусное расстояние между эмбеддингами\n",
        "    emb_pred = model.encode(pred, convert_to_tensor=True)\n",
        "    emb_gold = model.encode(gold_text, convert_to_tensor=True)\n",
        "\n",
        "    similarity = float(util.pytorch_cos_sim(emb_pred, emb_gold))\n",
        "\n",
        "    print(f\"Вопрос: {q}\")\n",
        "    print(f\"Ожидаемый ответ: {gold_text}\")\n",
        "    print(f\"Ответ модели: {pred}\")\n",
        "    print(f\"Сходство: {similarity:.2f}\")\n",
        "\n",
        "    if similarity >= threshold:\n",
        "        correct += 1\n",
        "    total += 1\n",
        "\n",
        "print(f\"Semantic Accuracy@{total}: {correct/total:.2%}\")\n"
      ],
      "metadata": {
        "colab": {
          "base_uri": "https://localhost:8080/"
        },
        "id": "fsRpqAMC-44N",
        "outputId": "6a73f0b3-518d-44ef-e97a-dabd0309c6ec"
      },
      "id": "fsRpqAMC-44N",
      "execution_count": null,
      "outputs": [
        {
          "output_type": "stream",
          "name": "stdout",
          "text": [
            "Тестирование:\n",
            "\n"
          ]
        },
        {
          "output_type": "stream",
          "name": "stderr",
          "text": [
            "  5%|▌         | 1/20 [00:02<00:44,  2.33s/it]"
          ]
        },
        {
          "output_type": "stream",
          "name": "stdout",
          "text": [
            "Вопрос: Что такое покрытие товаров?\n",
            "Ожидаемый ответ: доля товаров, порекомендованных хотя бы один раз\n",
            "Ответ модели: Покрытие товаров — это метрика, которая показывает долю товаров, рекомендованных хотя бы один раз, от общего количества товаров в каталоге. Эта метрика помогает оценить, насколько широко представлены товары в системе рекомендаций. Чем выше значение покрытия товаров, тем больше различных товаров было предложено пользователям.\n",
            "Сходство: 0.57\n"
          ]
        },
        {
          "output_type": "stream",
          "name": "stderr",
          "text": [
            "\r 10%|█         | 2/20 [00:02<00:22,  1.25s/it]"
          ]
        },
        {
          "output_type": "stream",
          "name": "stdout",
          "text": [
            "Вопрос: Что такое алгоритм один против всех?\n",
            "Ожидаемый ответ: метод классификации, при котором каждый класс рассматривается как отдельный бинарный классификатор\n",
            "Ответ модели: Из предоставленной информации невозможно однозначно ответить на данный вопрос.\n",
            "Сходство: 0.10\n"
          ]
        },
        {
          "output_type": "stream",
          "name": "stderr",
          "text": [
            "\r 15%|█▌        | 3/20 [00:03<00:16,  1.01it/s]"
          ]
        },
        {
          "output_type": "stream",
          "name": "stdout",
          "text": [
            "Вопрос: Какие есть методы оптимизации второго порядка?\n",
            "Ожидаемый ответ: метод Ньютона, квази-Ньютоновские методы\n",
            "Ответ модели: Из предоставленного документа невозможно однозначно определить конкретные методы оптимизации второго порядка. В тексте описываются общие принципы построения моделей и подходы к работе с выборками данных, но информация о конкретных методах оптимизации отсутствует.\n",
            "Сходство: 0.33\n"
          ]
        },
        {
          "output_type": "stream",
          "name": "stderr",
          "text": [
            "\r 20%|██        | 4/20 [00:05<00:22,  1.44s/it]"
          ]
        },
        {
          "output_type": "stream",
          "name": "stdout",
          "text": [
            "Вопрос: На чем основан DBSCAN?\n",
            "Ожидаемый ответ: алгоритм основан на плотности кластеров, где кластеры формируются на основе плотности точек в пространстве\n",
            "Ответ модели: DBSCAN (Density-Based Spatial Clustering of Applications with Noise) основан на понятии плотности областей в пространстве данных. Основная идея заключается в том, что кластеры в данных можно определить как области с высокой плотностью объектов, окружающие подобные объекты, а объекты, которые находятся в областях с низкой плотностью, считаются шумом и не относятся ни к какому кластеру.\n",
            "\n",
            "Ключевые аспекты DBSCAN включают следующие:\n",
            "\n",
            "1. **Параметры ε и MinPts**: \n",
            "   - Параметр ε определяет радиус окрестности вокруг каждой точки.\n",
            "   - MinPts задает минимальное количество точек, которое должно быть внутри окрестности радиуса ε для того, чтобы точка была признана ядром кластера.\n",
            "\n",
            "2. **Определение кластеров**:\n",
            "   - Точки, находящиеся в окрестности радиуса ε хотя бы одной другой точки, которая имеет минимум MinPts соседей, становятся частью одного кластера.\n",
            "   - Эти точки являются ядрами кластеров.\n",
            "\n",
            "3. **Шум**:\n",
            "   - Все точки, которые не входят ни в одно из кластеров, считаются шумом.\n",
            "\n",
            "Таким образом, DBSCAN является алгоритмом кластеризации, который группирует точки на основе их локальной плотности и позволяет находить как обычные кластеры, так и выбросы (шум).\n",
            "Сходство: 0.64\n"
          ]
        },
        {
          "output_type": "stream",
          "name": "stderr",
          "text": [
            "\r 25%|██▌       | 5/20 [00:06<00:16,  1.10s/it]"
          ]
        },
        {
          "output_type": "stream",
          "name": "stdout",
          "text": [
            "Вопрос: Как работает стекинг?\n",
            "Ожидаемый ответ: метод ансамблирования, в котором прогнозы алгоритмов объявляются новыми признаками, и поверх них обучается ещё один алгоритм (который называют мета-алгоритмом)\n",
            "Ответ модели: Из предоставленной информации невозможно однозначно ответить на вопрос о том, как работает стекинг.\n",
            "Сходство: 0.13\n"
          ]
        },
        {
          "output_type": "stream",
          "name": "stderr",
          "text": [
            "\r 30%|███       | 6/20 [00:07<00:14,  1.03s/it]"
          ]
        },
        {
          "output_type": "stream",
          "name": "stdout",
          "text": [
            "Вопрос: Что такое новизна в контексте рекомендательных систем?\n",
            "Ожидаемый ответ: доля новых для пользователя товаров среди рекомендованных\n",
            "Ответ модели: В контексте рекомендательных систем новизна относится к тому, насколько свежей или актуальной является предлагаемая система пользователю информация. Иными словами, это степень уникальности контента или данных, которые система предлагает пользователю, исходя из его предпочтений и интересов. Новизна может быть важным аспектом, так как пользователи часто хотят видеть что-то новое и интересное, а не повторяющиеся или устаревшие рекомендации.\n",
            "Сходство: 0.58\n"
          ]
        },
        {
          "output_type": "stream",
          "name": "stderr",
          "text": [
            "\r 35%|███▌      | 7/20 [00:08<00:13,  1.04s/it]"
          ]
        },
        {
          "output_type": "stream",
          "name": "stdout",
          "text": [
            "Вопрос: Что такое задача кластеризации?\n",
            "Ожидаемый ответ: задача разделения объектов на группы, обладающие некоторыми свойствами. Примером может служить кластеризация документов из электронной библиотеки\n",
            "Ответ модели: Задача кластеризации заключается в том, чтобы разделить множество объектов на группы (кластеры) таким образом, чтобы объекты внутри одной группы были более похожи друг на друга, чем на объекты из других групп, согласно некоторому критерию сходства или расстояния. В отличие от задач классификации, где заранее известны классы, к которым относятся объекты, в задаче кластеризации классы неизвестны, и их нужно определить на основе данных.\n",
            "Сходство: 0.67\n"
          ]
        },
        {
          "output_type": "stream",
          "name": "stderr",
          "text": [
            "\r 40%|████      | 8/20 [00:10<00:17,  1.50s/it]"
          ]
        },
        {
          "output_type": "stream",
          "name": "stdout",
          "text": [
            "Вопрос: Какие есть способы оценки градиента?\n",
            "Ожидаемый ответ: Есть несколько способов: Стохастический градиентный спуск SGD, средний стохастический градиен SAG, а также модификации: Метод инерции (momentum), AdaGrad и RMSprop, Adam\n",
            "Ответ модели: В предоставленной информации нет прямого ответа на ваш вопрос о способах оценки градиента. Однако я могу объяснить, что такое градиент и какие методы его оценки существуют в контексте машинного обучения.\n",
            "\n",
            "Градиент – это вектор частных производных функции, который показывает направление наибольшего роста функции в многомерном пространстве. В машинном обучении градиенты используются для оптимизации параметров моделей, например, в методе градиентного спуска.\n",
            "\n",
            "Оценка градиентов может быть выполнена несколькими способами:\n",
            "\n",
            "1. **Централизованные разностные схемы**: Это численные методы оценки градиентов, такие как метод центральных разностей. Они используют несколько точек для аппроксимации градиента.\n",
            "\n",
            "2. **Автоматическое дифференцирование (автодиффузия)**: Этот метод автоматически генерирует код для вычисления градиентов функций. Он широко используется в современных фреймворках глубокого обучения, таких как TensorFlow и PyTorch.\n",
            "\n",
            "3. **Метод обратного распространения ошибки (backpropagation)**: Это основной способ вычисления градиентов в нейронных сетях. Он позволяет эффективно вычислять частные производные функции потерь относительно всех параметров модели.\n",
            "\n",
            "4. **Финансовые и физические приложения**: В этих областях могут использоваться различные методы оценки градиентов, включая численные методы, такие как метод конечных разностей, или аналитические методы, основанные на уравнениях, описывающих систему.\n",
            "\n",
            "Если вам нужна более конкретная информация по какому-либо из этих методов, пожалуйста, уточните ваш запрос.\n",
            "Сходство: 0.46\n"
          ]
        },
        {
          "output_type": "stream",
          "name": "stderr",
          "text": [
            "\r 45%|████▌     | 9/20 [00:11<00:13,  1.25s/it]"
          ]
        },
        {
          "output_type": "stream",
          "name": "stdout",
          "text": [
            "Вопрос: Какое основное свойство логистической регрессии?\n",
            "Ожидаемый ответ: Основным свойством является тот факт, что метод корректно оценивает вероятность принадлежности объекта к каждому из классов.\n",
            "Ответ модели: Основное свойство логистической регрессии заключается в том, что она позволяет моделировать вероятности наступления событий с использованием сигмовидной функции (логистического роста), что делает её подходящей для задач классификации.\n",
            "Сходство: 0.60\n"
          ]
        },
        {
          "output_type": "stream",
          "name": "stderr",
          "text": [
            "\r 50%|█████     | 10/20 [00:12<00:11,  1.14s/it]"
          ]
        },
        {
          "output_type": "stream",
          "name": "stdout",
          "text": [
            "Вопрос: Для чего используется метод главных компонент?\n",
            "Ожидаемый ответ: Часто возникает задача уменьшения размерности признакового пространства.\n",
            "Ответ модели: Метод главных компонент (MGC) используется для уменьшения размерности данных. Он позволяет преобразовывать набор исходных переменных в новый набор, состоящий из меньшего числа переменных, которые сохраняют максимальное количество информации о первоначальных данных. MGC широко применяется в анализе данных, машинном обучении и обработке изображений для снижения вычислительной сложности и улучшения качества моделей.\n",
            "Сходство: 0.45\n"
          ]
        },
        {
          "output_type": "stream",
          "name": "stderr",
          "text": [
            "\r 55%|█████▌    | 11/20 [00:13<00:10,  1.13s/it]"
          ]
        },
        {
          "output_type": "stream",
          "name": "stdout",
          "text": [
            "Вопрос: Для чего используется метод Isolation Forest?\n",
            "Ожидаемый ответ: Подход для обнаружения аномалий.\n",
            "Ответ модели: Метод изоляции леса (Isolation Forest) используется для решения задач обнаружения аномалий или выбросов в данных. Этот метод основан на идее, что аномальные данные можно быстрее \"изолировать\" в случайном лесу решений, так как они ведут себя иначе, чем обычные данные. Изоляция происходит потому, что аномальные наблюдения будут иметь меньшее количество соседей на меньших глубинах дерева, чем типичные образцы данных. В результате этого структура деревьев в изоляционном лесу позволяет эффективно идентифицировать выбросы в данных.\n",
            "Сходство: 0.48\n"
          ]
        },
        {
          "output_type": "stream",
          "name": "stderr",
          "text": [
            "\r 60%|██████    | 12/20 [00:13<00:07,  1.05it/s]"
          ]
        },
        {
          "output_type": "stream",
          "name": "stdout",
          "text": [
            "Вопрос: Что такое факторизационная машина?\n",
            "Ожидаемый ответ: Модель, позволяющая строить рекомендательные модели на основе большого количества категориальных и вещественных признаков.\n",
            "Ответ модели: Из предоставленной информации невозможно однозначно ответить на вопрос о том, что такое факторизационная машина.\n",
            "Сходство: 0.19\n"
          ]
        },
        {
          "output_type": "stream",
          "name": "stderr",
          "text": [
            "\r 65%|██████▌   | 13/20 [00:15<00:07,  1.08s/it]"
          ]
        },
        {
          "output_type": "stream",
          "name": "stdout",
          "text": [
            "Вопрос: Какую задачу решает EM-алгоритм?\n",
            "Ожидаемый ответ: Решает задачу максимизации полного правоподобия путем попеременной оптимизации по параметрам и по скрытым переменным.\n",
            "Ответ модели: EM-алгоритм (Expectation-Maximization алгоритм) используется для решения задач максимизации правдоподобия или оценки параметров в моделях, где данные являются неполными или зашумленными. Основная идея алгоритма заключается в том, чтобы поочередно выполнять две фазы: ожидания (E-шаг), где оцениваются вероятности скрытых переменных или недостающих данных, и максимизации (M-шаг), где эти оценки используются для обновления параметров модели. Этот процесс повторяется до достижения сходимости.\n",
            "\n",
            "EM-алгоритм широко применяется в машинном обучении, статистике и анализе данных, особенно в таких областях, как кластеризация, восстановление пропущенных данных и обучение смешанных моделей.\n",
            "Сходство: 0.54\n"
          ]
        },
        {
          "output_type": "stream",
          "name": "stderr",
          "text": [
            "\r 70%|███████   | 14/20 [00:15<00:05,  1.01it/s]"
          ]
        },
        {
          "output_type": "stream",
          "name": "stdout",
          "text": [
            "Вопрос: Какие модели обучения представлений (representation learning) рассматриваются в документах?\n",
            "Ожидаемый ответ: Разберается word2vec - способ обучения представлений для слов.\n",
            "Ответ модели: В предоставленных вами текстах не содержится информации о конкретных моделях обучения представлениям (representation learning). Тексты посвящены другим темам, таким как классификация и машинное обучение в целом, но конкретные модели обучения представлениям в них не упоминаются.\n",
            "Сходство: 0.47\n"
          ]
        },
        {
          "output_type": "stream",
          "name": "stderr",
          "text": [
            "\r 75%|███████▌  | 15/20 [00:16<00:04,  1.13it/s]"
          ]
        },
        {
          "output_type": "stream",
          "name": "stdout",
          "text": [
            "Вопрос: Как называется модель, в которой зависимость ищется как линейная комбинация нелинейных функций от выборки?\n",
            "Ожидаемый ответ: Такая модель называется называется линейная модель над базисными функциями\n",
            "Ответ модели: Модель, в которой зависимость ищется как линейная комбинация нелинейных функций от выборки, называется **линейной моделью над базисными функциями**.\n",
            "Сходство: 0.86\n"
          ]
        },
        {
          "output_type": "stream",
          "name": "stderr",
          "text": [
            "\r 80%|████████  | 16/20 [00:17<00:03,  1.08it/s]"
          ]
        },
        {
          "output_type": "stream",
          "name": "stdout",
          "text": [
            "Вопрос: Какие есть популярные методы построения деревьев?\n",
            "Ожидаемый ответ: ID3 (использует энтропийный критерий), C4.5 (использует критерий Gain Ratio - нормированный энтропийный критерий), CART (использует критерий Джини).\n",
            "Ответ модели: В предоставленной информации не упоминаются конкретные методы построения деревьев. Однако были упомянуты различные типы предикатов, которые могут использоваться при построении деревьев решений, такие как одномерные предикаты сравнения значений признаков с порогами и многомерные предикаты, включая линейные и метрические предикаты. Также было отмечено, что семейства базовыми алгоритмами могут служить решающие деревья, которые способны достичь нулевой ошибки на обучающей выборке, если данные полностью разделены.\n",
            "Сходство: 0.33\n"
          ]
        },
        {
          "output_type": "stream",
          "name": "stderr",
          "text": [
            "\r 85%|████████▌ | 17/20 [00:18<00:02,  1.27it/s]"
          ]
        },
        {
          "output_type": "stream",
          "name": "stdout",
          "text": [
            "Вопрос: Что такое F-мера?\n",
            "Ожидаемый ответ: Метрика качества, равная гармоническому среднему между precision и recall\n",
            "Ответ модели: Из предоставленной информации невозможно однозначно определить, что такое F-мера.\n",
            "Сходство: 0.22\n"
          ]
        },
        {
          "output_type": "stream",
          "name": "stderr",
          "text": [
            "\r 90%|█████████ | 18/20 [00:18<00:01,  1.23it/s]"
          ]
        },
        {
          "output_type": "stream",
          "name": "stdout",
          "text": [
            "Вопрос: Что такое регуляризация?\n",
            "Ожидаемый ответ: Штраф для контроля сложности модели\n",
            "Ответ модели: Регуляризация – это метод, используемый в машинном обучении и статистике для уменьшения переобучения модели. Он добавляет дополнительное слагаемое к функции ошибки, чтобы минимизировать сложность модели, тем самым улучшая ее обобщающую способность. В результате регуляризация помогает избежать чрезмерной подгонки модели к обучающим данным и повышает точность предсказаний на новых данных.\n",
            "Сходство: 0.50\n"
          ]
        },
        {
          "output_type": "stream",
          "name": "stderr",
          "text": [
            "\r 95%|█████████▌| 19/20 [00:19<00:00,  1.34it/s]"
          ]
        },
        {
          "output_type": "stream",
          "name": "stdout",
          "text": [
            "Вопрос: Недостатки использования аналитической формулы для весов линейной регрессии?\n",
            "Ожидаемый ответ: Обращение матрицы - сложная операция; матрица может быть вырожденной\n",
            "Ответ модели: Невозможно однозначно ответить на данный вопрос, так как в предоставленных текстах нет информации о недостатках использования аналитической формулы для весов линейной регрессии.\n",
            "Сходство: 0.24\n"
          ]
        },
        {
          "output_type": "stream",
          "name": "stderr",
          "text": [
            "100%|██████████| 20/20 [00:20<00:00,  1.04s/it]"
          ]
        },
        {
          "output_type": "stream",
          "name": "stdout",
          "text": [
            "Вопрос: Что такое градиент функции?\n",
            "Ожидаемый ответ: Это вектор его частных производных\n",
            "Ответ модели: Градиент функции является вектором, который указывает направление наибольшего роста функции в данной точке. В многомерном случае градиент определяется как вектор частных производных функции по каждой переменной. Для функции \\( f(x_1, x_2, ..., x_n) \\) градиент можно записать как:\n",
            "\n",
            "\\[\n",
            "\\nabla f = \\left( \\frac{\\partial f}{\\partial x_1}, \\frac{\\partial f}{\\partial x_2}, ..., \\frac{\\partial f}{\\partial x_n} \\right)\n",
            "\\]\n",
            "\n",
            "Градиент используется в различных областях математики, таких как оптимизация, где он помогает находить направления наискорейшего возрастания функции.\n",
            "Сходство: 0.62\n",
            "Semantic Accuracy@20: 45.00%\n"
          ]
        },
        {
          "output_type": "stream",
          "name": "stderr",
          "text": [
            "\n"
          ]
        }
      ]
    },
    {
      "cell_type": "markdown",
      "source": [
        "Получили качество: 45% accuracy.\n",
        "\n",
        "Основными причинами такого результата являются: эмбеддинги, не улавливающие смысл, и неоптимальные размеры чанков."
      ],
      "metadata": {
        "id": "8Um_vDQ1QMP0"
      },
      "id": "8Um_vDQ1QMP0"
    },
    {
      "cell_type": "markdown",
      "source": [
        "Дальнейшее развитие и улучшение качества RAG:\n",
        "\n",
        "\n",
        "*   бОльшее использование мета-данных документа (титулы, подзаголовки)\n",
        "*   использование более продвинутого эмбеддера и БД, и в последнюю очередь LLM\n",
        "\n"
      ],
      "metadata": {
        "id": "8_1YJ2otPyGi"
      },
      "id": "8_1YJ2otPyGi"
    }
  ],
  "metadata": {
    "kernelspec": {
      "display_name": "Python 3",
      "name": "python3"
    },
    "language_info": {
      "codemirror_mode": {
        "name": "ipython",
        "version": 3
      },
      "file_extension": ".py",
      "mimetype": "text/x-python",
      "name": "python",
      "nbconvert_exporter": "python",
      "pygments_lexer": "ipython3",
      "version": "3.9.12"
    },
    "varInspector": {
      "cols": {
        "lenName": 16,
        "lenType": 16,
        "lenVar": 40
      },
      "kernels_config": {
        "python": {
          "delete_cmd_postfix": "",
          "delete_cmd_prefix": "del ",
          "library": "var_list.py",
          "varRefreshCmd": "print(var_dic_list())"
        },
        "r": {
          "delete_cmd_postfix": ") ",
          "delete_cmd_prefix": "rm(",
          "library": "var_list.r",
          "varRefreshCmd": "cat(var_dic_list()) "
        }
      },
      "types_to_exclude": [
        "module",
        "function",
        "builtin_function_or_method",
        "instance",
        "_Feature"
      ],
      "window_display": false
    },
    "colab": {
      "provenance": []
    },
    "widgets": {
      "application/vnd.jupyter.widget-state+json": {
        "dca9be44501c42e59c77c8b48677bd45": {
          "model_module": "@jupyter-widgets/controls",
          "model_name": "HBoxModel",
          "model_module_version": "1.5.0",
          "state": {
            "_dom_classes": [],
            "_model_module": "@jupyter-widgets/controls",
            "_model_module_version": "1.5.0",
            "_model_name": "HBoxModel",
            "_view_count": null,
            "_view_module": "@jupyter-widgets/controls",
            "_view_module_version": "1.5.0",
            "_view_name": "HBoxView",
            "box_style": "",
            "children": [
              "IPY_MODEL_411bb4b06b004546bd142f7c599930b8",
              "IPY_MODEL_078d1782712b4dcab708246c1a7c5f5b",
              "IPY_MODEL_ef91a9f50969498aa4713726b7bf2906"
            ],
            "layout": "IPY_MODEL_999cb67980b74bb38b06388d5edd900d"
          }
        },
        "411bb4b06b004546bd142f7c599930b8": {
          "model_module": "@jupyter-widgets/controls",
          "model_name": "HTMLModel",
          "model_module_version": "1.5.0",
          "state": {
            "_dom_classes": [],
            "_model_module": "@jupyter-widgets/controls",
            "_model_module_version": "1.5.0",
            "_model_name": "HTMLModel",
            "_view_count": null,
            "_view_module": "@jupyter-widgets/controls",
            "_view_module_version": "1.5.0",
            "_view_name": "HTMLView",
            "description": "",
            "description_tooltip": null,
            "layout": "IPY_MODEL_e4197a51528d4378bf5b39b4bde51bed",
            "placeholder": "​",
            "style": "IPY_MODEL_9818ab839ff84a6cb87637d71720a61d",
            "value": "modules.json: 100%"
          }
        },
        "078d1782712b4dcab708246c1a7c5f5b": {
          "model_module": "@jupyter-widgets/controls",
          "model_name": "FloatProgressModel",
          "model_module_version": "1.5.0",
          "state": {
            "_dom_classes": [],
            "_model_module": "@jupyter-widgets/controls",
            "_model_module_version": "1.5.0",
            "_model_name": "FloatProgressModel",
            "_view_count": null,
            "_view_module": "@jupyter-widgets/controls",
            "_view_module_version": "1.5.0",
            "_view_name": "ProgressView",
            "bar_style": "success",
            "description": "",
            "description_tooltip": null,
            "layout": "IPY_MODEL_10fa2c8e307c41cfbda8ee2effd19fef",
            "max": 229,
            "min": 0,
            "orientation": "horizontal",
            "style": "IPY_MODEL_9e54d99efdb34c5c8fdfe76647e9de10",
            "value": 229
          }
        },
        "ef91a9f50969498aa4713726b7bf2906": {
          "model_module": "@jupyter-widgets/controls",
          "model_name": "HTMLModel",
          "model_module_version": "1.5.0",
          "state": {
            "_dom_classes": [],
            "_model_module": "@jupyter-widgets/controls",
            "_model_module_version": "1.5.0",
            "_model_name": "HTMLModel",
            "_view_count": null,
            "_view_module": "@jupyter-widgets/controls",
            "_view_module_version": "1.5.0",
            "_view_name": "HTMLView",
            "description": "",
            "description_tooltip": null,
            "layout": "IPY_MODEL_9769151f54864919abce8305d289ec39",
            "placeholder": "​",
            "style": "IPY_MODEL_fdf1bcfe3be148458a3fb14760e0855b",
            "value": " 229/229 [00:00&lt;00:00, 1.72kB/s]"
          }
        },
        "999cb67980b74bb38b06388d5edd900d": {
          "model_module": "@jupyter-widgets/base",
          "model_name": "LayoutModel",
          "model_module_version": "1.2.0",
          "state": {
            "_model_module": "@jupyter-widgets/base",
            "_model_module_version": "1.2.0",
            "_model_name": "LayoutModel",
            "_view_count": null,
            "_view_module": "@jupyter-widgets/base",
            "_view_module_version": "1.2.0",
            "_view_name": "LayoutView",
            "align_content": null,
            "align_items": null,
            "align_self": null,
            "border": null,
            "bottom": null,
            "display": null,
            "flex": null,
            "flex_flow": null,
            "grid_area": null,
            "grid_auto_columns": null,
            "grid_auto_flow": null,
            "grid_auto_rows": null,
            "grid_column": null,
            "grid_gap": null,
            "grid_row": null,
            "grid_template_areas": null,
            "grid_template_columns": null,
            "grid_template_rows": null,
            "height": null,
            "justify_content": null,
            "justify_items": null,
            "left": null,
            "margin": null,
            "max_height": null,
            "max_width": null,
            "min_height": null,
            "min_width": null,
            "object_fit": null,
            "object_position": null,
            "order": null,
            "overflow": null,
            "overflow_x": null,
            "overflow_y": null,
            "padding": null,
            "right": null,
            "top": null,
            "visibility": null,
            "width": null
          }
        },
        "e4197a51528d4378bf5b39b4bde51bed": {
          "model_module": "@jupyter-widgets/base",
          "model_name": "LayoutModel",
          "model_module_version": "1.2.0",
          "state": {
            "_model_module": "@jupyter-widgets/base",
            "_model_module_version": "1.2.0",
            "_model_name": "LayoutModel",
            "_view_count": null,
            "_view_module": "@jupyter-widgets/base",
            "_view_module_version": "1.2.0",
            "_view_name": "LayoutView",
            "align_content": null,
            "align_items": null,
            "align_self": null,
            "border": null,
            "bottom": null,
            "display": null,
            "flex": null,
            "flex_flow": null,
            "grid_area": null,
            "grid_auto_columns": null,
            "grid_auto_flow": null,
            "grid_auto_rows": null,
            "grid_column": null,
            "grid_gap": null,
            "grid_row": null,
            "grid_template_areas": null,
            "grid_template_columns": null,
            "grid_template_rows": null,
            "height": null,
            "justify_content": null,
            "justify_items": null,
            "left": null,
            "margin": null,
            "max_height": null,
            "max_width": null,
            "min_height": null,
            "min_width": null,
            "object_fit": null,
            "object_position": null,
            "order": null,
            "overflow": null,
            "overflow_x": null,
            "overflow_y": null,
            "padding": null,
            "right": null,
            "top": null,
            "visibility": null,
            "width": null
          }
        },
        "9818ab839ff84a6cb87637d71720a61d": {
          "model_module": "@jupyter-widgets/controls",
          "model_name": "DescriptionStyleModel",
          "model_module_version": "1.5.0",
          "state": {
            "_model_module": "@jupyter-widgets/controls",
            "_model_module_version": "1.5.0",
            "_model_name": "DescriptionStyleModel",
            "_view_count": null,
            "_view_module": "@jupyter-widgets/base",
            "_view_module_version": "1.2.0",
            "_view_name": "StyleView",
            "description_width": ""
          }
        },
        "10fa2c8e307c41cfbda8ee2effd19fef": {
          "model_module": "@jupyter-widgets/base",
          "model_name": "LayoutModel",
          "model_module_version": "1.2.0",
          "state": {
            "_model_module": "@jupyter-widgets/base",
            "_model_module_version": "1.2.0",
            "_model_name": "LayoutModel",
            "_view_count": null,
            "_view_module": "@jupyter-widgets/base",
            "_view_module_version": "1.2.0",
            "_view_name": "LayoutView",
            "align_content": null,
            "align_items": null,
            "align_self": null,
            "border": null,
            "bottom": null,
            "display": null,
            "flex": null,
            "flex_flow": null,
            "grid_area": null,
            "grid_auto_columns": null,
            "grid_auto_flow": null,
            "grid_auto_rows": null,
            "grid_column": null,
            "grid_gap": null,
            "grid_row": null,
            "grid_template_areas": null,
            "grid_template_columns": null,
            "grid_template_rows": null,
            "height": null,
            "justify_content": null,
            "justify_items": null,
            "left": null,
            "margin": null,
            "max_height": null,
            "max_width": null,
            "min_height": null,
            "min_width": null,
            "object_fit": null,
            "object_position": null,
            "order": null,
            "overflow": null,
            "overflow_x": null,
            "overflow_y": null,
            "padding": null,
            "right": null,
            "top": null,
            "visibility": null,
            "width": null
          }
        },
        "9e54d99efdb34c5c8fdfe76647e9de10": {
          "model_module": "@jupyter-widgets/controls",
          "model_name": "ProgressStyleModel",
          "model_module_version": "1.5.0",
          "state": {
            "_model_module": "@jupyter-widgets/controls",
            "_model_module_version": "1.5.0",
            "_model_name": "ProgressStyleModel",
            "_view_count": null,
            "_view_module": "@jupyter-widgets/base",
            "_view_module_version": "1.2.0",
            "_view_name": "StyleView",
            "bar_color": null,
            "description_width": ""
          }
        },
        "9769151f54864919abce8305d289ec39": {
          "model_module": "@jupyter-widgets/base",
          "model_name": "LayoutModel",
          "model_module_version": "1.2.0",
          "state": {
            "_model_module": "@jupyter-widgets/base",
            "_model_module_version": "1.2.0",
            "_model_name": "LayoutModel",
            "_view_count": null,
            "_view_module": "@jupyter-widgets/base",
            "_view_module_version": "1.2.0",
            "_view_name": "LayoutView",
            "align_content": null,
            "align_items": null,
            "align_self": null,
            "border": null,
            "bottom": null,
            "display": null,
            "flex": null,
            "flex_flow": null,
            "grid_area": null,
            "grid_auto_columns": null,
            "grid_auto_flow": null,
            "grid_auto_rows": null,
            "grid_column": null,
            "grid_gap": null,
            "grid_row": null,
            "grid_template_areas": null,
            "grid_template_columns": null,
            "grid_template_rows": null,
            "height": null,
            "justify_content": null,
            "justify_items": null,
            "left": null,
            "margin": null,
            "max_height": null,
            "max_width": null,
            "min_height": null,
            "min_width": null,
            "object_fit": null,
            "object_position": null,
            "order": null,
            "overflow": null,
            "overflow_x": null,
            "overflow_y": null,
            "padding": null,
            "right": null,
            "top": null,
            "visibility": null,
            "width": null
          }
        },
        "fdf1bcfe3be148458a3fb14760e0855b": {
          "model_module": "@jupyter-widgets/controls",
          "model_name": "DescriptionStyleModel",
          "model_module_version": "1.5.0",
          "state": {
            "_model_module": "@jupyter-widgets/controls",
            "_model_module_version": "1.5.0",
            "_model_name": "DescriptionStyleModel",
            "_view_count": null,
            "_view_module": "@jupyter-widgets/base",
            "_view_module_version": "1.2.0",
            "_view_name": "StyleView",
            "description_width": ""
          }
        },
        "169c98696ec44e95bbebeeb940376810": {
          "model_module": "@jupyter-widgets/controls",
          "model_name": "HBoxModel",
          "model_module_version": "1.5.0",
          "state": {
            "_dom_classes": [],
            "_model_module": "@jupyter-widgets/controls",
            "_model_module_version": "1.5.0",
            "_model_name": "HBoxModel",
            "_view_count": null,
            "_view_module": "@jupyter-widgets/controls",
            "_view_module_version": "1.5.0",
            "_view_name": "HBoxView",
            "box_style": "",
            "children": [
              "IPY_MODEL_46e26a08539c492d8b6c706a6f711689",
              "IPY_MODEL_62f0166c4591441ca34254a9db90a757",
              "IPY_MODEL_a5cdeb8be47845a4b14afc3706c42b2a"
            ],
            "layout": "IPY_MODEL_1f35c4f51df94ebb9333db516f870f2d"
          }
        },
        "46e26a08539c492d8b6c706a6f711689": {
          "model_module": "@jupyter-widgets/controls",
          "model_name": "HTMLModel",
          "model_module_version": "1.5.0",
          "state": {
            "_dom_classes": [],
            "_model_module": "@jupyter-widgets/controls",
            "_model_module_version": "1.5.0",
            "_model_name": "HTMLModel",
            "_view_count": null,
            "_view_module": "@jupyter-widgets/controls",
            "_view_module_version": "1.5.0",
            "_view_name": "HTMLView",
            "description": "",
            "description_tooltip": null,
            "layout": "IPY_MODEL_79fd1370260b4837b5f9dbac9d8f0193",
            "placeholder": "​",
            "style": "IPY_MODEL_da0d45e131fe4a849ca0b089bff51b93",
            "value": "config_sentence_transformers.json: 100%"
          }
        },
        "62f0166c4591441ca34254a9db90a757": {
          "model_module": "@jupyter-widgets/controls",
          "model_name": "FloatProgressModel",
          "model_module_version": "1.5.0",
          "state": {
            "_dom_classes": [],
            "_model_module": "@jupyter-widgets/controls",
            "_model_module_version": "1.5.0",
            "_model_name": "FloatProgressModel",
            "_view_count": null,
            "_view_module": "@jupyter-widgets/controls",
            "_view_module_version": "1.5.0",
            "_view_name": "ProgressView",
            "bar_style": "success",
            "description": "",
            "description_tooltip": null,
            "layout": "IPY_MODEL_bfd14b1eb39a4df49b8a98eec924147b",
            "max": 122,
            "min": 0,
            "orientation": "horizontal",
            "style": "IPY_MODEL_b9848a6df49e47038b99da23055162b2",
            "value": 122
          }
        },
        "a5cdeb8be47845a4b14afc3706c42b2a": {
          "model_module": "@jupyter-widgets/controls",
          "model_name": "HTMLModel",
          "model_module_version": "1.5.0",
          "state": {
            "_dom_classes": [],
            "_model_module": "@jupyter-widgets/controls",
            "_model_module_version": "1.5.0",
            "_model_name": "HTMLModel",
            "_view_count": null,
            "_view_module": "@jupyter-widgets/controls",
            "_view_module_version": "1.5.0",
            "_view_name": "HTMLView",
            "description": "",
            "description_tooltip": null,
            "layout": "IPY_MODEL_a2e6ba3d3de04d558700f941e3d2ef2e",
            "placeholder": "​",
            "style": "IPY_MODEL_cb1adefd90b344499409d8cdd1d1c8e7",
            "value": " 122/122 [00:00&lt;00:00, 2.83kB/s]"
          }
        },
        "1f35c4f51df94ebb9333db516f870f2d": {
          "model_module": "@jupyter-widgets/base",
          "model_name": "LayoutModel",
          "model_module_version": "1.2.0",
          "state": {
            "_model_module": "@jupyter-widgets/base",
            "_model_module_version": "1.2.0",
            "_model_name": "LayoutModel",
            "_view_count": null,
            "_view_module": "@jupyter-widgets/base",
            "_view_module_version": "1.2.0",
            "_view_name": "LayoutView",
            "align_content": null,
            "align_items": null,
            "align_self": null,
            "border": null,
            "bottom": null,
            "display": null,
            "flex": null,
            "flex_flow": null,
            "grid_area": null,
            "grid_auto_columns": null,
            "grid_auto_flow": null,
            "grid_auto_rows": null,
            "grid_column": null,
            "grid_gap": null,
            "grid_row": null,
            "grid_template_areas": null,
            "grid_template_columns": null,
            "grid_template_rows": null,
            "height": null,
            "justify_content": null,
            "justify_items": null,
            "left": null,
            "margin": null,
            "max_height": null,
            "max_width": null,
            "min_height": null,
            "min_width": null,
            "object_fit": null,
            "object_position": null,
            "order": null,
            "overflow": null,
            "overflow_x": null,
            "overflow_y": null,
            "padding": null,
            "right": null,
            "top": null,
            "visibility": null,
            "width": null
          }
        },
        "79fd1370260b4837b5f9dbac9d8f0193": {
          "model_module": "@jupyter-widgets/base",
          "model_name": "LayoutModel",
          "model_module_version": "1.2.0",
          "state": {
            "_model_module": "@jupyter-widgets/base",
            "_model_module_version": "1.2.0",
            "_model_name": "LayoutModel",
            "_view_count": null,
            "_view_module": "@jupyter-widgets/base",
            "_view_module_version": "1.2.0",
            "_view_name": "LayoutView",
            "align_content": null,
            "align_items": null,
            "align_self": null,
            "border": null,
            "bottom": null,
            "display": null,
            "flex": null,
            "flex_flow": null,
            "grid_area": null,
            "grid_auto_columns": null,
            "grid_auto_flow": null,
            "grid_auto_rows": null,
            "grid_column": null,
            "grid_gap": null,
            "grid_row": null,
            "grid_template_areas": null,
            "grid_template_columns": null,
            "grid_template_rows": null,
            "height": null,
            "justify_content": null,
            "justify_items": null,
            "left": null,
            "margin": null,
            "max_height": null,
            "max_width": null,
            "min_height": null,
            "min_width": null,
            "object_fit": null,
            "object_position": null,
            "order": null,
            "overflow": null,
            "overflow_x": null,
            "overflow_y": null,
            "padding": null,
            "right": null,
            "top": null,
            "visibility": null,
            "width": null
          }
        },
        "da0d45e131fe4a849ca0b089bff51b93": {
          "model_module": "@jupyter-widgets/controls",
          "model_name": "DescriptionStyleModel",
          "model_module_version": "1.5.0",
          "state": {
            "_model_module": "@jupyter-widgets/controls",
            "_model_module_version": "1.5.0",
            "_model_name": "DescriptionStyleModel",
            "_view_count": null,
            "_view_module": "@jupyter-widgets/base",
            "_view_module_version": "1.2.0",
            "_view_name": "StyleView",
            "description_width": ""
          }
        },
        "bfd14b1eb39a4df49b8a98eec924147b": {
          "model_module": "@jupyter-widgets/base",
          "model_name": "LayoutModel",
          "model_module_version": "1.2.0",
          "state": {
            "_model_module": "@jupyter-widgets/base",
            "_model_module_version": "1.2.0",
            "_model_name": "LayoutModel",
            "_view_count": null,
            "_view_module": "@jupyter-widgets/base",
            "_view_module_version": "1.2.0",
            "_view_name": "LayoutView",
            "align_content": null,
            "align_items": null,
            "align_self": null,
            "border": null,
            "bottom": null,
            "display": null,
            "flex": null,
            "flex_flow": null,
            "grid_area": null,
            "grid_auto_columns": null,
            "grid_auto_flow": null,
            "grid_auto_rows": null,
            "grid_column": null,
            "grid_gap": null,
            "grid_row": null,
            "grid_template_areas": null,
            "grid_template_columns": null,
            "grid_template_rows": null,
            "height": null,
            "justify_content": null,
            "justify_items": null,
            "left": null,
            "margin": null,
            "max_height": null,
            "max_width": null,
            "min_height": null,
            "min_width": null,
            "object_fit": null,
            "object_position": null,
            "order": null,
            "overflow": null,
            "overflow_x": null,
            "overflow_y": null,
            "padding": null,
            "right": null,
            "top": null,
            "visibility": null,
            "width": null
          }
        },
        "b9848a6df49e47038b99da23055162b2": {
          "model_module": "@jupyter-widgets/controls",
          "model_name": "ProgressStyleModel",
          "model_module_version": "1.5.0",
          "state": {
            "_model_module": "@jupyter-widgets/controls",
            "_model_module_version": "1.5.0",
            "_model_name": "ProgressStyleModel",
            "_view_count": null,
            "_view_module": "@jupyter-widgets/base",
            "_view_module_version": "1.2.0",
            "_view_name": "StyleView",
            "bar_color": null,
            "description_width": ""
          }
        },
        "a2e6ba3d3de04d558700f941e3d2ef2e": {
          "model_module": "@jupyter-widgets/base",
          "model_name": "LayoutModel",
          "model_module_version": "1.2.0",
          "state": {
            "_model_module": "@jupyter-widgets/base",
            "_model_module_version": "1.2.0",
            "_model_name": "LayoutModel",
            "_view_count": null,
            "_view_module": "@jupyter-widgets/base",
            "_view_module_version": "1.2.0",
            "_view_name": "LayoutView",
            "align_content": null,
            "align_items": null,
            "align_self": null,
            "border": null,
            "bottom": null,
            "display": null,
            "flex": null,
            "flex_flow": null,
            "grid_area": null,
            "grid_auto_columns": null,
            "grid_auto_flow": null,
            "grid_auto_rows": null,
            "grid_column": null,
            "grid_gap": null,
            "grid_row": null,
            "grid_template_areas": null,
            "grid_template_columns": null,
            "grid_template_rows": null,
            "height": null,
            "justify_content": null,
            "justify_items": null,
            "left": null,
            "margin": null,
            "max_height": null,
            "max_width": null,
            "min_height": null,
            "min_width": null,
            "object_fit": null,
            "object_position": null,
            "order": null,
            "overflow": null,
            "overflow_x": null,
            "overflow_y": null,
            "padding": null,
            "right": null,
            "top": null,
            "visibility": null,
            "width": null
          }
        },
        "cb1adefd90b344499409d8cdd1d1c8e7": {
          "model_module": "@jupyter-widgets/controls",
          "model_name": "DescriptionStyleModel",
          "model_module_version": "1.5.0",
          "state": {
            "_model_module": "@jupyter-widgets/controls",
            "_model_module_version": "1.5.0",
            "_model_name": "DescriptionStyleModel",
            "_view_count": null,
            "_view_module": "@jupyter-widgets/base",
            "_view_module_version": "1.2.0",
            "_view_name": "StyleView",
            "description_width": ""
          }
        },
        "1a014f0fba764170862b52f6c85cdc2e": {
          "model_module": "@jupyter-widgets/controls",
          "model_name": "HBoxModel",
          "model_module_version": "1.5.0",
          "state": {
            "_dom_classes": [],
            "_model_module": "@jupyter-widgets/controls",
            "_model_module_version": "1.5.0",
            "_model_name": "HBoxModel",
            "_view_count": null,
            "_view_module": "@jupyter-widgets/controls",
            "_view_module_version": "1.5.0",
            "_view_name": "HBoxView",
            "box_style": "",
            "children": [
              "IPY_MODEL_81e47c707d6441f2a7d26c977fda9659",
              "IPY_MODEL_5bd083a7114b4d01bf7d2b511ff93d39",
              "IPY_MODEL_3a0b922fd9364927bc3b816331da15d4"
            ],
            "layout": "IPY_MODEL_5fc4633a08cb45c0a63cf69ed3823cdc"
          }
        },
        "81e47c707d6441f2a7d26c977fda9659": {
          "model_module": "@jupyter-widgets/controls",
          "model_name": "HTMLModel",
          "model_module_version": "1.5.0",
          "state": {
            "_dom_classes": [],
            "_model_module": "@jupyter-widgets/controls",
            "_model_module_version": "1.5.0",
            "_model_name": "HTMLModel",
            "_view_count": null,
            "_view_module": "@jupyter-widgets/controls",
            "_view_module_version": "1.5.0",
            "_view_name": "HTMLView",
            "description": "",
            "description_tooltip": null,
            "layout": "IPY_MODEL_ceb8aef4f16645ffb9909288feb4ef22",
            "placeholder": "​",
            "style": "IPY_MODEL_76a6d22777404a54a210c0dc71331623",
            "value": "README.md: "
          }
        },
        "5bd083a7114b4d01bf7d2b511ff93d39": {
          "model_module": "@jupyter-widgets/controls",
          "model_name": "FloatProgressModel",
          "model_module_version": "1.5.0",
          "state": {
            "_dom_classes": [],
            "_model_module": "@jupyter-widgets/controls",
            "_model_module_version": "1.5.0",
            "_model_name": "FloatProgressModel",
            "_view_count": null,
            "_view_module": "@jupyter-widgets/controls",
            "_view_module_version": "1.5.0",
            "_view_name": "ProgressView",
            "bar_style": "success",
            "description": "",
            "description_tooltip": null,
            "layout": "IPY_MODEL_2f648d0d05b24b4ab490f9daab312b05",
            "max": 1,
            "min": 0,
            "orientation": "horizontal",
            "style": "IPY_MODEL_3955e2c5f7af4bd2b6e0a82d0ef18d56",
            "value": 1
          }
        },
        "3a0b922fd9364927bc3b816331da15d4": {
          "model_module": "@jupyter-widgets/controls",
          "model_name": "HTMLModel",
          "model_module_version": "1.5.0",
          "state": {
            "_dom_classes": [],
            "_model_module": "@jupyter-widgets/controls",
            "_model_module_version": "1.5.0",
            "_model_name": "HTMLModel",
            "_view_count": null,
            "_view_module": "@jupyter-widgets/controls",
            "_view_module_version": "1.5.0",
            "_view_name": "HTMLView",
            "description": "",
            "description_tooltip": null,
            "layout": "IPY_MODEL_9dd2674504454588b3efdab09c96c06a",
            "placeholder": "​",
            "style": "IPY_MODEL_7731fda23d314b32a5e6e70ebdef058d",
            "value": " 3.89k/? [00:00&lt;00:00, 57.9kB/s]"
          }
        },
        "5fc4633a08cb45c0a63cf69ed3823cdc": {
          "model_module": "@jupyter-widgets/base",
          "model_name": "LayoutModel",
          "model_module_version": "1.2.0",
          "state": {
            "_model_module": "@jupyter-widgets/base",
            "_model_module_version": "1.2.0",
            "_model_name": "LayoutModel",
            "_view_count": null,
            "_view_module": "@jupyter-widgets/base",
            "_view_module_version": "1.2.0",
            "_view_name": "LayoutView",
            "align_content": null,
            "align_items": null,
            "align_self": null,
            "border": null,
            "bottom": null,
            "display": null,
            "flex": null,
            "flex_flow": null,
            "grid_area": null,
            "grid_auto_columns": null,
            "grid_auto_flow": null,
            "grid_auto_rows": null,
            "grid_column": null,
            "grid_gap": null,
            "grid_row": null,
            "grid_template_areas": null,
            "grid_template_columns": null,
            "grid_template_rows": null,
            "height": null,
            "justify_content": null,
            "justify_items": null,
            "left": null,
            "margin": null,
            "max_height": null,
            "max_width": null,
            "min_height": null,
            "min_width": null,
            "object_fit": null,
            "object_position": null,
            "order": null,
            "overflow": null,
            "overflow_x": null,
            "overflow_y": null,
            "padding": null,
            "right": null,
            "top": null,
            "visibility": null,
            "width": null
          }
        },
        "ceb8aef4f16645ffb9909288feb4ef22": {
          "model_module": "@jupyter-widgets/base",
          "model_name": "LayoutModel",
          "model_module_version": "1.2.0",
          "state": {
            "_model_module": "@jupyter-widgets/base",
            "_model_module_version": "1.2.0",
            "_model_name": "LayoutModel",
            "_view_count": null,
            "_view_module": "@jupyter-widgets/base",
            "_view_module_version": "1.2.0",
            "_view_name": "LayoutView",
            "align_content": null,
            "align_items": null,
            "align_self": null,
            "border": null,
            "bottom": null,
            "display": null,
            "flex": null,
            "flex_flow": null,
            "grid_area": null,
            "grid_auto_columns": null,
            "grid_auto_flow": null,
            "grid_auto_rows": null,
            "grid_column": null,
            "grid_gap": null,
            "grid_row": null,
            "grid_template_areas": null,
            "grid_template_columns": null,
            "grid_template_rows": null,
            "height": null,
            "justify_content": null,
            "justify_items": null,
            "left": null,
            "margin": null,
            "max_height": null,
            "max_width": null,
            "min_height": null,
            "min_width": null,
            "object_fit": null,
            "object_position": null,
            "order": null,
            "overflow": null,
            "overflow_x": null,
            "overflow_y": null,
            "padding": null,
            "right": null,
            "top": null,
            "visibility": null,
            "width": null
          }
        },
        "76a6d22777404a54a210c0dc71331623": {
          "model_module": "@jupyter-widgets/controls",
          "model_name": "DescriptionStyleModel",
          "model_module_version": "1.5.0",
          "state": {
            "_model_module": "@jupyter-widgets/controls",
            "_model_module_version": "1.5.0",
            "_model_name": "DescriptionStyleModel",
            "_view_count": null,
            "_view_module": "@jupyter-widgets/base",
            "_view_module_version": "1.2.0",
            "_view_name": "StyleView",
            "description_width": ""
          }
        },
        "2f648d0d05b24b4ab490f9daab312b05": {
          "model_module": "@jupyter-widgets/base",
          "model_name": "LayoutModel",
          "model_module_version": "1.2.0",
          "state": {
            "_model_module": "@jupyter-widgets/base",
            "_model_module_version": "1.2.0",
            "_model_name": "LayoutModel",
            "_view_count": null,
            "_view_module": "@jupyter-widgets/base",
            "_view_module_version": "1.2.0",
            "_view_name": "LayoutView",
            "align_content": null,
            "align_items": null,
            "align_self": null,
            "border": null,
            "bottom": null,
            "display": null,
            "flex": null,
            "flex_flow": null,
            "grid_area": null,
            "grid_auto_columns": null,
            "grid_auto_flow": null,
            "grid_auto_rows": null,
            "grid_column": null,
            "grid_gap": null,
            "grid_row": null,
            "grid_template_areas": null,
            "grid_template_columns": null,
            "grid_template_rows": null,
            "height": null,
            "justify_content": null,
            "justify_items": null,
            "left": null,
            "margin": null,
            "max_height": null,
            "max_width": null,
            "min_height": null,
            "min_width": null,
            "object_fit": null,
            "object_position": null,
            "order": null,
            "overflow": null,
            "overflow_x": null,
            "overflow_y": null,
            "padding": null,
            "right": null,
            "top": null,
            "visibility": null,
            "width": "20px"
          }
        },
        "3955e2c5f7af4bd2b6e0a82d0ef18d56": {
          "model_module": "@jupyter-widgets/controls",
          "model_name": "ProgressStyleModel",
          "model_module_version": "1.5.0",
          "state": {
            "_model_module": "@jupyter-widgets/controls",
            "_model_module_version": "1.5.0",
            "_model_name": "ProgressStyleModel",
            "_view_count": null,
            "_view_module": "@jupyter-widgets/base",
            "_view_module_version": "1.2.0",
            "_view_name": "StyleView",
            "bar_color": null,
            "description_width": ""
          }
        },
        "9dd2674504454588b3efdab09c96c06a": {
          "model_module": "@jupyter-widgets/base",
          "model_name": "LayoutModel",
          "model_module_version": "1.2.0",
          "state": {
            "_model_module": "@jupyter-widgets/base",
            "_model_module_version": "1.2.0",
            "_model_name": "LayoutModel",
            "_view_count": null,
            "_view_module": "@jupyter-widgets/base",
            "_view_module_version": "1.2.0",
            "_view_name": "LayoutView",
            "align_content": null,
            "align_items": null,
            "align_self": null,
            "border": null,
            "bottom": null,
            "display": null,
            "flex": null,
            "flex_flow": null,
            "grid_area": null,
            "grid_auto_columns": null,
            "grid_auto_flow": null,
            "grid_auto_rows": null,
            "grid_column": null,
            "grid_gap": null,
            "grid_row": null,
            "grid_template_areas": null,
            "grid_template_columns": null,
            "grid_template_rows": null,
            "height": null,
            "justify_content": null,
            "justify_items": null,
            "left": null,
            "margin": null,
            "max_height": null,
            "max_width": null,
            "min_height": null,
            "min_width": null,
            "object_fit": null,
            "object_position": null,
            "order": null,
            "overflow": null,
            "overflow_x": null,
            "overflow_y": null,
            "padding": null,
            "right": null,
            "top": null,
            "visibility": null,
            "width": null
          }
        },
        "7731fda23d314b32a5e6e70ebdef058d": {
          "model_module": "@jupyter-widgets/controls",
          "model_name": "DescriptionStyleModel",
          "model_module_version": "1.5.0",
          "state": {
            "_model_module": "@jupyter-widgets/controls",
            "_model_module_version": "1.5.0",
            "_model_name": "DescriptionStyleModel",
            "_view_count": null,
            "_view_module": "@jupyter-widgets/base",
            "_view_module_version": "1.2.0",
            "_view_name": "StyleView",
            "description_width": ""
          }
        },
        "573fd87e3b3c4e8d8d49794ec81fd817": {
          "model_module": "@jupyter-widgets/controls",
          "model_name": "HBoxModel",
          "model_module_version": "1.5.0",
          "state": {
            "_dom_classes": [],
            "_model_module": "@jupyter-widgets/controls",
            "_model_module_version": "1.5.0",
            "_model_name": "HBoxModel",
            "_view_count": null,
            "_view_module": "@jupyter-widgets/controls",
            "_view_module_version": "1.5.0",
            "_view_name": "HBoxView",
            "box_style": "",
            "children": [
              "IPY_MODEL_a45b28887813490c96303efa1c0faefe",
              "IPY_MODEL_34bd31af6317449582d73e09db6c9587",
              "IPY_MODEL_c18b851414bd45c882e103e1027a3175"
            ],
            "layout": "IPY_MODEL_72d14278f9ae4e37bcb3986a94e4d79f"
          }
        },
        "a45b28887813490c96303efa1c0faefe": {
          "model_module": "@jupyter-widgets/controls",
          "model_name": "HTMLModel",
          "model_module_version": "1.5.0",
          "state": {
            "_dom_classes": [],
            "_model_module": "@jupyter-widgets/controls",
            "_model_module_version": "1.5.0",
            "_model_name": "HTMLModel",
            "_view_count": null,
            "_view_module": "@jupyter-widgets/controls",
            "_view_module_version": "1.5.0",
            "_view_name": "HTMLView",
            "description": "",
            "description_tooltip": null,
            "layout": "IPY_MODEL_b17732fcc6774ae5a5bd285dccb4fe72",
            "placeholder": "​",
            "style": "IPY_MODEL_6939f3f066cf47a0a5f1bb2c33bdb8ef",
            "value": "sentence_bert_config.json: 100%"
          }
        },
        "34bd31af6317449582d73e09db6c9587": {
          "model_module": "@jupyter-widgets/controls",
          "model_name": "FloatProgressModel",
          "model_module_version": "1.5.0",
          "state": {
            "_dom_classes": [],
            "_model_module": "@jupyter-widgets/controls",
            "_model_module_version": "1.5.0",
            "_model_name": "FloatProgressModel",
            "_view_count": null,
            "_view_module": "@jupyter-widgets/controls",
            "_view_module_version": "1.5.0",
            "_view_name": "ProgressView",
            "bar_style": "success",
            "description": "",
            "description_tooltip": null,
            "layout": "IPY_MODEL_038acfcd7160491399da213f011768bc",
            "max": 53,
            "min": 0,
            "orientation": "horizontal",
            "style": "IPY_MODEL_138172e214264d2f847335eb0a40d63c",
            "value": 53
          }
        },
        "c18b851414bd45c882e103e1027a3175": {
          "model_module": "@jupyter-widgets/controls",
          "model_name": "HTMLModel",
          "model_module_version": "1.5.0",
          "state": {
            "_dom_classes": [],
            "_model_module": "@jupyter-widgets/controls",
            "_model_module_version": "1.5.0",
            "_model_name": "HTMLModel",
            "_view_count": null,
            "_view_module": "@jupyter-widgets/controls",
            "_view_module_version": "1.5.0",
            "_view_name": "HTMLView",
            "description": "",
            "description_tooltip": null,
            "layout": "IPY_MODEL_523d0587f576439ba97445b989a559c1",
            "placeholder": "​",
            "style": "IPY_MODEL_e7674e3d22954464a3adc0f33b7530f3",
            "value": " 53.0/53.0 [00:00&lt;00:00, 560B/s]"
          }
        },
        "72d14278f9ae4e37bcb3986a94e4d79f": {
          "model_module": "@jupyter-widgets/base",
          "model_name": "LayoutModel",
          "model_module_version": "1.2.0",
          "state": {
            "_model_module": "@jupyter-widgets/base",
            "_model_module_version": "1.2.0",
            "_model_name": "LayoutModel",
            "_view_count": null,
            "_view_module": "@jupyter-widgets/base",
            "_view_module_version": "1.2.0",
            "_view_name": "LayoutView",
            "align_content": null,
            "align_items": null,
            "align_self": null,
            "border": null,
            "bottom": null,
            "display": null,
            "flex": null,
            "flex_flow": null,
            "grid_area": null,
            "grid_auto_columns": null,
            "grid_auto_flow": null,
            "grid_auto_rows": null,
            "grid_column": null,
            "grid_gap": null,
            "grid_row": null,
            "grid_template_areas": null,
            "grid_template_columns": null,
            "grid_template_rows": null,
            "height": null,
            "justify_content": null,
            "justify_items": null,
            "left": null,
            "margin": null,
            "max_height": null,
            "max_width": null,
            "min_height": null,
            "min_width": null,
            "object_fit": null,
            "object_position": null,
            "order": null,
            "overflow": null,
            "overflow_x": null,
            "overflow_y": null,
            "padding": null,
            "right": null,
            "top": null,
            "visibility": null,
            "width": null
          }
        },
        "b17732fcc6774ae5a5bd285dccb4fe72": {
          "model_module": "@jupyter-widgets/base",
          "model_name": "LayoutModel",
          "model_module_version": "1.2.0",
          "state": {
            "_model_module": "@jupyter-widgets/base",
            "_model_module_version": "1.2.0",
            "_model_name": "LayoutModel",
            "_view_count": null,
            "_view_module": "@jupyter-widgets/base",
            "_view_module_version": "1.2.0",
            "_view_name": "LayoutView",
            "align_content": null,
            "align_items": null,
            "align_self": null,
            "border": null,
            "bottom": null,
            "display": null,
            "flex": null,
            "flex_flow": null,
            "grid_area": null,
            "grid_auto_columns": null,
            "grid_auto_flow": null,
            "grid_auto_rows": null,
            "grid_column": null,
            "grid_gap": null,
            "grid_row": null,
            "grid_template_areas": null,
            "grid_template_columns": null,
            "grid_template_rows": null,
            "height": null,
            "justify_content": null,
            "justify_items": null,
            "left": null,
            "margin": null,
            "max_height": null,
            "max_width": null,
            "min_height": null,
            "min_width": null,
            "object_fit": null,
            "object_position": null,
            "order": null,
            "overflow": null,
            "overflow_x": null,
            "overflow_y": null,
            "padding": null,
            "right": null,
            "top": null,
            "visibility": null,
            "width": null
          }
        },
        "6939f3f066cf47a0a5f1bb2c33bdb8ef": {
          "model_module": "@jupyter-widgets/controls",
          "model_name": "DescriptionStyleModel",
          "model_module_version": "1.5.0",
          "state": {
            "_model_module": "@jupyter-widgets/controls",
            "_model_module_version": "1.5.0",
            "_model_name": "DescriptionStyleModel",
            "_view_count": null,
            "_view_module": "@jupyter-widgets/base",
            "_view_module_version": "1.2.0",
            "_view_name": "StyleView",
            "description_width": ""
          }
        },
        "038acfcd7160491399da213f011768bc": {
          "model_module": "@jupyter-widgets/base",
          "model_name": "LayoutModel",
          "model_module_version": "1.2.0",
          "state": {
            "_model_module": "@jupyter-widgets/base",
            "_model_module_version": "1.2.0",
            "_model_name": "LayoutModel",
            "_view_count": null,
            "_view_module": "@jupyter-widgets/base",
            "_view_module_version": "1.2.0",
            "_view_name": "LayoutView",
            "align_content": null,
            "align_items": null,
            "align_self": null,
            "border": null,
            "bottom": null,
            "display": null,
            "flex": null,
            "flex_flow": null,
            "grid_area": null,
            "grid_auto_columns": null,
            "grid_auto_flow": null,
            "grid_auto_rows": null,
            "grid_column": null,
            "grid_gap": null,
            "grid_row": null,
            "grid_template_areas": null,
            "grid_template_columns": null,
            "grid_template_rows": null,
            "height": null,
            "justify_content": null,
            "justify_items": null,
            "left": null,
            "margin": null,
            "max_height": null,
            "max_width": null,
            "min_height": null,
            "min_width": null,
            "object_fit": null,
            "object_position": null,
            "order": null,
            "overflow": null,
            "overflow_x": null,
            "overflow_y": null,
            "padding": null,
            "right": null,
            "top": null,
            "visibility": null,
            "width": null
          }
        },
        "138172e214264d2f847335eb0a40d63c": {
          "model_module": "@jupyter-widgets/controls",
          "model_name": "ProgressStyleModel",
          "model_module_version": "1.5.0",
          "state": {
            "_model_module": "@jupyter-widgets/controls",
            "_model_module_version": "1.5.0",
            "_model_name": "ProgressStyleModel",
            "_view_count": null,
            "_view_module": "@jupyter-widgets/base",
            "_view_module_version": "1.2.0",
            "_view_name": "StyleView",
            "bar_color": null,
            "description_width": ""
          }
        },
        "523d0587f576439ba97445b989a559c1": {
          "model_module": "@jupyter-widgets/base",
          "model_name": "LayoutModel",
          "model_module_version": "1.2.0",
          "state": {
            "_model_module": "@jupyter-widgets/base",
            "_model_module_version": "1.2.0",
            "_model_name": "LayoutModel",
            "_view_count": null,
            "_view_module": "@jupyter-widgets/base",
            "_view_module_version": "1.2.0",
            "_view_name": "LayoutView",
            "align_content": null,
            "align_items": null,
            "align_self": null,
            "border": null,
            "bottom": null,
            "display": null,
            "flex": null,
            "flex_flow": null,
            "grid_area": null,
            "grid_auto_columns": null,
            "grid_auto_flow": null,
            "grid_auto_rows": null,
            "grid_column": null,
            "grid_gap": null,
            "grid_row": null,
            "grid_template_areas": null,
            "grid_template_columns": null,
            "grid_template_rows": null,
            "height": null,
            "justify_content": null,
            "justify_items": null,
            "left": null,
            "margin": null,
            "max_height": null,
            "max_width": null,
            "min_height": null,
            "min_width": null,
            "object_fit": null,
            "object_position": null,
            "order": null,
            "overflow": null,
            "overflow_x": null,
            "overflow_y": null,
            "padding": null,
            "right": null,
            "top": null,
            "visibility": null,
            "width": null
          }
        },
        "e7674e3d22954464a3adc0f33b7530f3": {
          "model_module": "@jupyter-widgets/controls",
          "model_name": "DescriptionStyleModel",
          "model_module_version": "1.5.0",
          "state": {
            "_model_module": "@jupyter-widgets/controls",
            "_model_module_version": "1.5.0",
            "_model_name": "DescriptionStyleModel",
            "_view_count": null,
            "_view_module": "@jupyter-widgets/base",
            "_view_module_version": "1.2.0",
            "_view_name": "StyleView",
            "description_width": ""
          }
        },
        "cc2d30384dd54b3fb338ded6bf79a7d9": {
          "model_module": "@jupyter-widgets/controls",
          "model_name": "HBoxModel",
          "model_module_version": "1.5.0",
          "state": {
            "_dom_classes": [],
            "_model_module": "@jupyter-widgets/controls",
            "_model_module_version": "1.5.0",
            "_model_name": "HBoxModel",
            "_view_count": null,
            "_view_module": "@jupyter-widgets/controls",
            "_view_module_version": "1.5.0",
            "_view_name": "HBoxView",
            "box_style": "",
            "children": [
              "IPY_MODEL_bbfe016ca592410aaa3dd4cabf9638b2",
              "IPY_MODEL_2c9555c259a949c39515df2c57d03950",
              "IPY_MODEL_a872dc333e3e42d8b0039d54fed6b694"
            ],
            "layout": "IPY_MODEL_3d633e58e60740ea887d0bcd9c663d83"
          }
        },
        "bbfe016ca592410aaa3dd4cabf9638b2": {
          "model_module": "@jupyter-widgets/controls",
          "model_name": "HTMLModel",
          "model_module_version": "1.5.0",
          "state": {
            "_dom_classes": [],
            "_model_module": "@jupyter-widgets/controls",
            "_model_module_version": "1.5.0",
            "_model_name": "HTMLModel",
            "_view_count": null,
            "_view_module": "@jupyter-widgets/controls",
            "_view_module_version": "1.5.0",
            "_view_name": "HTMLView",
            "description": "",
            "description_tooltip": null,
            "layout": "IPY_MODEL_d7ec25d66b1d41c4841fddfe30ef6ca8",
            "placeholder": "​",
            "style": "IPY_MODEL_96738dcfcc0d45028eef184c8170da0d",
            "value": "config.json: 100%"
          }
        },
        "2c9555c259a949c39515df2c57d03950": {
          "model_module": "@jupyter-widgets/controls",
          "model_name": "FloatProgressModel",
          "model_module_version": "1.5.0",
          "state": {
            "_dom_classes": [],
            "_model_module": "@jupyter-widgets/controls",
            "_model_module_version": "1.5.0",
            "_model_name": "FloatProgressModel",
            "_view_count": null,
            "_view_module": "@jupyter-widgets/controls",
            "_view_module_version": "1.5.0",
            "_view_name": "ProgressView",
            "bar_style": "success",
            "description": "",
            "description_tooltip": null,
            "layout": "IPY_MODEL_acff9211ea644252a090f15a685df8fa",
            "max": 645,
            "min": 0,
            "orientation": "horizontal",
            "style": "IPY_MODEL_c4fc67667667450baf3196f413838bba",
            "value": 645
          }
        },
        "a872dc333e3e42d8b0039d54fed6b694": {
          "model_module": "@jupyter-widgets/controls",
          "model_name": "HTMLModel",
          "model_module_version": "1.5.0",
          "state": {
            "_dom_classes": [],
            "_model_module": "@jupyter-widgets/controls",
            "_model_module_version": "1.5.0",
            "_model_name": "HTMLModel",
            "_view_count": null,
            "_view_module": "@jupyter-widgets/controls",
            "_view_module_version": "1.5.0",
            "_view_name": "HTMLView",
            "description": "",
            "description_tooltip": null,
            "layout": "IPY_MODEL_f1632bad180e4d5a96b6a3dd6796a012",
            "placeholder": "​",
            "style": "IPY_MODEL_8fd6f3111c6e4f65a73c94badd20f176",
            "value": " 645/645 [00:00&lt;00:00, 7.56kB/s]"
          }
        },
        "3d633e58e60740ea887d0bcd9c663d83": {
          "model_module": "@jupyter-widgets/base",
          "model_name": "LayoutModel",
          "model_module_version": "1.2.0",
          "state": {
            "_model_module": "@jupyter-widgets/base",
            "_model_module_version": "1.2.0",
            "_model_name": "LayoutModel",
            "_view_count": null,
            "_view_module": "@jupyter-widgets/base",
            "_view_module_version": "1.2.0",
            "_view_name": "LayoutView",
            "align_content": null,
            "align_items": null,
            "align_self": null,
            "border": null,
            "bottom": null,
            "display": null,
            "flex": null,
            "flex_flow": null,
            "grid_area": null,
            "grid_auto_columns": null,
            "grid_auto_flow": null,
            "grid_auto_rows": null,
            "grid_column": null,
            "grid_gap": null,
            "grid_row": null,
            "grid_template_areas": null,
            "grid_template_columns": null,
            "grid_template_rows": null,
            "height": null,
            "justify_content": null,
            "justify_items": null,
            "left": null,
            "margin": null,
            "max_height": null,
            "max_width": null,
            "min_height": null,
            "min_width": null,
            "object_fit": null,
            "object_position": null,
            "order": null,
            "overflow": null,
            "overflow_x": null,
            "overflow_y": null,
            "padding": null,
            "right": null,
            "top": null,
            "visibility": null,
            "width": null
          }
        },
        "d7ec25d66b1d41c4841fddfe30ef6ca8": {
          "model_module": "@jupyter-widgets/base",
          "model_name": "LayoutModel",
          "model_module_version": "1.2.0",
          "state": {
            "_model_module": "@jupyter-widgets/base",
            "_model_module_version": "1.2.0",
            "_model_name": "LayoutModel",
            "_view_count": null,
            "_view_module": "@jupyter-widgets/base",
            "_view_module_version": "1.2.0",
            "_view_name": "LayoutView",
            "align_content": null,
            "align_items": null,
            "align_self": null,
            "border": null,
            "bottom": null,
            "display": null,
            "flex": null,
            "flex_flow": null,
            "grid_area": null,
            "grid_auto_columns": null,
            "grid_auto_flow": null,
            "grid_auto_rows": null,
            "grid_column": null,
            "grid_gap": null,
            "grid_row": null,
            "grid_template_areas": null,
            "grid_template_columns": null,
            "grid_template_rows": null,
            "height": null,
            "justify_content": null,
            "justify_items": null,
            "left": null,
            "margin": null,
            "max_height": null,
            "max_width": null,
            "min_height": null,
            "min_width": null,
            "object_fit": null,
            "object_position": null,
            "order": null,
            "overflow": null,
            "overflow_x": null,
            "overflow_y": null,
            "padding": null,
            "right": null,
            "top": null,
            "visibility": null,
            "width": null
          }
        },
        "96738dcfcc0d45028eef184c8170da0d": {
          "model_module": "@jupyter-widgets/controls",
          "model_name": "DescriptionStyleModel",
          "model_module_version": "1.5.0",
          "state": {
            "_model_module": "@jupyter-widgets/controls",
            "_model_module_version": "1.5.0",
            "_model_name": "DescriptionStyleModel",
            "_view_count": null,
            "_view_module": "@jupyter-widgets/base",
            "_view_module_version": "1.2.0",
            "_view_name": "StyleView",
            "description_width": ""
          }
        },
        "acff9211ea644252a090f15a685df8fa": {
          "model_module": "@jupyter-widgets/base",
          "model_name": "LayoutModel",
          "model_module_version": "1.2.0",
          "state": {
            "_model_module": "@jupyter-widgets/base",
            "_model_module_version": "1.2.0",
            "_model_name": "LayoutModel",
            "_view_count": null,
            "_view_module": "@jupyter-widgets/base",
            "_view_module_version": "1.2.0",
            "_view_name": "LayoutView",
            "align_content": null,
            "align_items": null,
            "align_self": null,
            "border": null,
            "bottom": null,
            "display": null,
            "flex": null,
            "flex_flow": null,
            "grid_area": null,
            "grid_auto_columns": null,
            "grid_auto_flow": null,
            "grid_auto_rows": null,
            "grid_column": null,
            "grid_gap": null,
            "grid_row": null,
            "grid_template_areas": null,
            "grid_template_columns": null,
            "grid_template_rows": null,
            "height": null,
            "justify_content": null,
            "justify_items": null,
            "left": null,
            "margin": null,
            "max_height": null,
            "max_width": null,
            "min_height": null,
            "min_width": null,
            "object_fit": null,
            "object_position": null,
            "order": null,
            "overflow": null,
            "overflow_x": null,
            "overflow_y": null,
            "padding": null,
            "right": null,
            "top": null,
            "visibility": null,
            "width": null
          }
        },
        "c4fc67667667450baf3196f413838bba": {
          "model_module": "@jupyter-widgets/controls",
          "model_name": "ProgressStyleModel",
          "model_module_version": "1.5.0",
          "state": {
            "_model_module": "@jupyter-widgets/controls",
            "_model_module_version": "1.5.0",
            "_model_name": "ProgressStyleModel",
            "_view_count": null,
            "_view_module": "@jupyter-widgets/base",
            "_view_module_version": "1.2.0",
            "_view_name": "StyleView",
            "bar_color": null,
            "description_width": ""
          }
        },
        "f1632bad180e4d5a96b6a3dd6796a012": {
          "model_module": "@jupyter-widgets/base",
          "model_name": "LayoutModel",
          "model_module_version": "1.2.0",
          "state": {
            "_model_module": "@jupyter-widgets/base",
            "_model_module_version": "1.2.0",
            "_model_name": "LayoutModel",
            "_view_count": null,
            "_view_module": "@jupyter-widgets/base",
            "_view_module_version": "1.2.0",
            "_view_name": "LayoutView",
            "align_content": null,
            "align_items": null,
            "align_self": null,
            "border": null,
            "bottom": null,
            "display": null,
            "flex": null,
            "flex_flow": null,
            "grid_area": null,
            "grid_auto_columns": null,
            "grid_auto_flow": null,
            "grid_auto_rows": null,
            "grid_column": null,
            "grid_gap": null,
            "grid_row": null,
            "grid_template_areas": null,
            "grid_template_columns": null,
            "grid_template_rows": null,
            "height": null,
            "justify_content": null,
            "justify_items": null,
            "left": null,
            "margin": null,
            "max_height": null,
            "max_width": null,
            "min_height": null,
            "min_width": null,
            "object_fit": null,
            "object_position": null,
            "order": null,
            "overflow": null,
            "overflow_x": null,
            "overflow_y": null,
            "padding": null,
            "right": null,
            "top": null,
            "visibility": null,
            "width": null
          }
        },
        "8fd6f3111c6e4f65a73c94badd20f176": {
          "model_module": "@jupyter-widgets/controls",
          "model_name": "DescriptionStyleModel",
          "model_module_version": "1.5.0",
          "state": {
            "_model_module": "@jupyter-widgets/controls",
            "_model_module_version": "1.5.0",
            "_model_name": "DescriptionStyleModel",
            "_view_count": null,
            "_view_module": "@jupyter-widgets/base",
            "_view_module_version": "1.2.0",
            "_view_name": "StyleView",
            "description_width": ""
          }
        },
        "86ccc3b4d6694bc0a009098fb4995d2a": {
          "model_module": "@jupyter-widgets/controls",
          "model_name": "HBoxModel",
          "model_module_version": "1.5.0",
          "state": {
            "_dom_classes": [],
            "_model_module": "@jupyter-widgets/controls",
            "_model_module_version": "1.5.0",
            "_model_name": "HBoxModel",
            "_view_count": null,
            "_view_module": "@jupyter-widgets/controls",
            "_view_module_version": "1.5.0",
            "_view_name": "HBoxView",
            "box_style": "",
            "children": [
              "IPY_MODEL_6b6fa9ba3e3c418db84714688bd08b14",
              "IPY_MODEL_3fdabaf459bf4866afb8927f567fda70",
              "IPY_MODEL_dd14756d47db44629a59d69bbd2efc99"
            ],
            "layout": "IPY_MODEL_c5c00c2fa2d545e9a8e7ff3687b47086"
          }
        },
        "6b6fa9ba3e3c418db84714688bd08b14": {
          "model_module": "@jupyter-widgets/controls",
          "model_name": "HTMLModel",
          "model_module_version": "1.5.0",
          "state": {
            "_dom_classes": [],
            "_model_module": "@jupyter-widgets/controls",
            "_model_module_version": "1.5.0",
            "_model_name": "HTMLModel",
            "_view_count": null,
            "_view_module": "@jupyter-widgets/controls",
            "_view_module_version": "1.5.0",
            "_view_name": "HTMLView",
            "description": "",
            "description_tooltip": null,
            "layout": "IPY_MODEL_cc73085c7d4e4b629fb6c30cae170115",
            "placeholder": "​",
            "style": "IPY_MODEL_e54367952c214505a6bdef9b4e5e1860",
            "value": "model.safetensors: 100%"
          }
        },
        "3fdabaf459bf4866afb8927f567fda70": {
          "model_module": "@jupyter-widgets/controls",
          "model_name": "FloatProgressModel",
          "model_module_version": "1.5.0",
          "state": {
            "_dom_classes": [],
            "_model_module": "@jupyter-widgets/controls",
            "_model_module_version": "1.5.0",
            "_model_name": "FloatProgressModel",
            "_view_count": null,
            "_view_module": "@jupyter-widgets/controls",
            "_view_module_version": "1.5.0",
            "_view_name": "ProgressView",
            "bar_style": "success",
            "description": "",
            "description_tooltip": null,
            "layout": "IPY_MODEL_574f61ea21d34800874b71c93f93c6ee",
            "max": 470641600,
            "min": 0,
            "orientation": "horizontal",
            "style": "IPY_MODEL_7d0c8644a1254f4280d251ba61cf02b4",
            "value": 470641600
          }
        },
        "dd14756d47db44629a59d69bbd2efc99": {
          "model_module": "@jupyter-widgets/controls",
          "model_name": "HTMLModel",
          "model_module_version": "1.5.0",
          "state": {
            "_dom_classes": [],
            "_model_module": "@jupyter-widgets/controls",
            "_model_module_version": "1.5.0",
            "_model_name": "HTMLModel",
            "_view_count": null,
            "_view_module": "@jupyter-widgets/controls",
            "_view_module_version": "1.5.0",
            "_view_name": "HTMLView",
            "description": "",
            "description_tooltip": null,
            "layout": "IPY_MODEL_3d12bf464d5d4273a4c43afaeeaaaadc",
            "placeholder": "​",
            "style": "IPY_MODEL_0df4dfcca0054e28bfdd9701322d1df1",
            "value": " 471M/471M [00:21&lt;00:00, 21.9MB/s]"
          }
        },
        "c5c00c2fa2d545e9a8e7ff3687b47086": {
          "model_module": "@jupyter-widgets/base",
          "model_name": "LayoutModel",
          "model_module_version": "1.2.0",
          "state": {
            "_model_module": "@jupyter-widgets/base",
            "_model_module_version": "1.2.0",
            "_model_name": "LayoutModel",
            "_view_count": null,
            "_view_module": "@jupyter-widgets/base",
            "_view_module_version": "1.2.0",
            "_view_name": "LayoutView",
            "align_content": null,
            "align_items": null,
            "align_self": null,
            "border": null,
            "bottom": null,
            "display": null,
            "flex": null,
            "flex_flow": null,
            "grid_area": null,
            "grid_auto_columns": null,
            "grid_auto_flow": null,
            "grid_auto_rows": null,
            "grid_column": null,
            "grid_gap": null,
            "grid_row": null,
            "grid_template_areas": null,
            "grid_template_columns": null,
            "grid_template_rows": null,
            "height": null,
            "justify_content": null,
            "justify_items": null,
            "left": null,
            "margin": null,
            "max_height": null,
            "max_width": null,
            "min_height": null,
            "min_width": null,
            "object_fit": null,
            "object_position": null,
            "order": null,
            "overflow": null,
            "overflow_x": null,
            "overflow_y": null,
            "padding": null,
            "right": null,
            "top": null,
            "visibility": null,
            "width": null
          }
        },
        "cc73085c7d4e4b629fb6c30cae170115": {
          "model_module": "@jupyter-widgets/base",
          "model_name": "LayoutModel",
          "model_module_version": "1.2.0",
          "state": {
            "_model_module": "@jupyter-widgets/base",
            "_model_module_version": "1.2.0",
            "_model_name": "LayoutModel",
            "_view_count": null,
            "_view_module": "@jupyter-widgets/base",
            "_view_module_version": "1.2.0",
            "_view_name": "LayoutView",
            "align_content": null,
            "align_items": null,
            "align_self": null,
            "border": null,
            "bottom": null,
            "display": null,
            "flex": null,
            "flex_flow": null,
            "grid_area": null,
            "grid_auto_columns": null,
            "grid_auto_flow": null,
            "grid_auto_rows": null,
            "grid_column": null,
            "grid_gap": null,
            "grid_row": null,
            "grid_template_areas": null,
            "grid_template_columns": null,
            "grid_template_rows": null,
            "height": null,
            "justify_content": null,
            "justify_items": null,
            "left": null,
            "margin": null,
            "max_height": null,
            "max_width": null,
            "min_height": null,
            "min_width": null,
            "object_fit": null,
            "object_position": null,
            "order": null,
            "overflow": null,
            "overflow_x": null,
            "overflow_y": null,
            "padding": null,
            "right": null,
            "top": null,
            "visibility": null,
            "width": null
          }
        },
        "e54367952c214505a6bdef9b4e5e1860": {
          "model_module": "@jupyter-widgets/controls",
          "model_name": "DescriptionStyleModel",
          "model_module_version": "1.5.0",
          "state": {
            "_model_module": "@jupyter-widgets/controls",
            "_model_module_version": "1.5.0",
            "_model_name": "DescriptionStyleModel",
            "_view_count": null,
            "_view_module": "@jupyter-widgets/base",
            "_view_module_version": "1.2.0",
            "_view_name": "StyleView",
            "description_width": ""
          }
        },
        "574f61ea21d34800874b71c93f93c6ee": {
          "model_module": "@jupyter-widgets/base",
          "model_name": "LayoutModel",
          "model_module_version": "1.2.0",
          "state": {
            "_model_module": "@jupyter-widgets/base",
            "_model_module_version": "1.2.0",
            "_model_name": "LayoutModel",
            "_view_count": null,
            "_view_module": "@jupyter-widgets/base",
            "_view_module_version": "1.2.0",
            "_view_name": "LayoutView",
            "align_content": null,
            "align_items": null,
            "align_self": null,
            "border": null,
            "bottom": null,
            "display": null,
            "flex": null,
            "flex_flow": null,
            "grid_area": null,
            "grid_auto_columns": null,
            "grid_auto_flow": null,
            "grid_auto_rows": null,
            "grid_column": null,
            "grid_gap": null,
            "grid_row": null,
            "grid_template_areas": null,
            "grid_template_columns": null,
            "grid_template_rows": null,
            "height": null,
            "justify_content": null,
            "justify_items": null,
            "left": null,
            "margin": null,
            "max_height": null,
            "max_width": null,
            "min_height": null,
            "min_width": null,
            "object_fit": null,
            "object_position": null,
            "order": null,
            "overflow": null,
            "overflow_x": null,
            "overflow_y": null,
            "padding": null,
            "right": null,
            "top": null,
            "visibility": null,
            "width": null
          }
        },
        "7d0c8644a1254f4280d251ba61cf02b4": {
          "model_module": "@jupyter-widgets/controls",
          "model_name": "ProgressStyleModel",
          "model_module_version": "1.5.0",
          "state": {
            "_model_module": "@jupyter-widgets/controls",
            "_model_module_version": "1.5.0",
            "_model_name": "ProgressStyleModel",
            "_view_count": null,
            "_view_module": "@jupyter-widgets/base",
            "_view_module_version": "1.2.0",
            "_view_name": "StyleView",
            "bar_color": null,
            "description_width": ""
          }
        },
        "3d12bf464d5d4273a4c43afaeeaaaadc": {
          "model_module": "@jupyter-widgets/base",
          "model_name": "LayoutModel",
          "model_module_version": "1.2.0",
          "state": {
            "_model_module": "@jupyter-widgets/base",
            "_model_module_version": "1.2.0",
            "_model_name": "LayoutModel",
            "_view_count": null,
            "_view_module": "@jupyter-widgets/base",
            "_view_module_version": "1.2.0",
            "_view_name": "LayoutView",
            "align_content": null,
            "align_items": null,
            "align_self": null,
            "border": null,
            "bottom": null,
            "display": null,
            "flex": null,
            "flex_flow": null,
            "grid_area": null,
            "grid_auto_columns": null,
            "grid_auto_flow": null,
            "grid_auto_rows": null,
            "grid_column": null,
            "grid_gap": null,
            "grid_row": null,
            "grid_template_areas": null,
            "grid_template_columns": null,
            "grid_template_rows": null,
            "height": null,
            "justify_content": null,
            "justify_items": null,
            "left": null,
            "margin": null,
            "max_height": null,
            "max_width": null,
            "min_height": null,
            "min_width": null,
            "object_fit": null,
            "object_position": null,
            "order": null,
            "overflow": null,
            "overflow_x": null,
            "overflow_y": null,
            "padding": null,
            "right": null,
            "top": null,
            "visibility": null,
            "width": null
          }
        },
        "0df4dfcca0054e28bfdd9701322d1df1": {
          "model_module": "@jupyter-widgets/controls",
          "model_name": "DescriptionStyleModel",
          "model_module_version": "1.5.0",
          "state": {
            "_model_module": "@jupyter-widgets/controls",
            "_model_module_version": "1.5.0",
            "_model_name": "DescriptionStyleModel",
            "_view_count": null,
            "_view_module": "@jupyter-widgets/base",
            "_view_module_version": "1.2.0",
            "_view_name": "StyleView",
            "description_width": ""
          }
        },
        "3a5ae16b9fc148b7befe8c3d539db360": {
          "model_module": "@jupyter-widgets/controls",
          "model_name": "HBoxModel",
          "model_module_version": "1.5.0",
          "state": {
            "_dom_classes": [],
            "_model_module": "@jupyter-widgets/controls",
            "_model_module_version": "1.5.0",
            "_model_name": "HBoxModel",
            "_view_count": null,
            "_view_module": "@jupyter-widgets/controls",
            "_view_module_version": "1.5.0",
            "_view_name": "HBoxView",
            "box_style": "",
            "children": [
              "IPY_MODEL_73d1e85ccb374e05893fc67f87fb7e5c",
              "IPY_MODEL_b0ab5616165b4c2ea3589ea5dfeda64d",
              "IPY_MODEL_d58a02c271194c0485805d5393cb0bcd"
            ],
            "layout": "IPY_MODEL_2621132299b94929ac9fb9ef6478262e"
          }
        },
        "73d1e85ccb374e05893fc67f87fb7e5c": {
          "model_module": "@jupyter-widgets/controls",
          "model_name": "HTMLModel",
          "model_module_version": "1.5.0",
          "state": {
            "_dom_classes": [],
            "_model_module": "@jupyter-widgets/controls",
            "_model_module_version": "1.5.0",
            "_model_name": "HTMLModel",
            "_view_count": null,
            "_view_module": "@jupyter-widgets/controls",
            "_view_module_version": "1.5.0",
            "_view_name": "HTMLView",
            "description": "",
            "description_tooltip": null,
            "layout": "IPY_MODEL_1be085c11b444e68b557a634dc46b61d",
            "placeholder": "​",
            "style": "IPY_MODEL_e516ac1817e54922b2b776cfdbff505d",
            "value": "tokenizer_config.json: 100%"
          }
        },
        "b0ab5616165b4c2ea3589ea5dfeda64d": {
          "model_module": "@jupyter-widgets/controls",
          "model_name": "FloatProgressModel",
          "model_module_version": "1.5.0",
          "state": {
            "_dom_classes": [],
            "_model_module": "@jupyter-widgets/controls",
            "_model_module_version": "1.5.0",
            "_model_name": "FloatProgressModel",
            "_view_count": null,
            "_view_module": "@jupyter-widgets/controls",
            "_view_module_version": "1.5.0",
            "_view_name": "ProgressView",
            "bar_style": "success",
            "description": "",
            "description_tooltip": null,
            "layout": "IPY_MODEL_fa220337257e47dca5c6183c3c0cc80b",
            "max": 480,
            "min": 0,
            "orientation": "horizontal",
            "style": "IPY_MODEL_b0f9f51db6884bd6ba519f90dde35761",
            "value": 480
          }
        },
        "d58a02c271194c0485805d5393cb0bcd": {
          "model_module": "@jupyter-widgets/controls",
          "model_name": "HTMLModel",
          "model_module_version": "1.5.0",
          "state": {
            "_dom_classes": [],
            "_model_module": "@jupyter-widgets/controls",
            "_model_module_version": "1.5.0",
            "_model_name": "HTMLModel",
            "_view_count": null,
            "_view_module": "@jupyter-widgets/controls",
            "_view_module_version": "1.5.0",
            "_view_name": "HTMLView",
            "description": "",
            "description_tooltip": null,
            "layout": "IPY_MODEL_720e076ac8944c6f87edabb348c80c6f",
            "placeholder": "​",
            "style": "IPY_MODEL_3b06cbd96b7c4a5cb79523be6e6b132b",
            "value": " 480/480 [00:00&lt;00:00, 9.45kB/s]"
          }
        },
        "2621132299b94929ac9fb9ef6478262e": {
          "model_module": "@jupyter-widgets/base",
          "model_name": "LayoutModel",
          "model_module_version": "1.2.0",
          "state": {
            "_model_module": "@jupyter-widgets/base",
            "_model_module_version": "1.2.0",
            "_model_name": "LayoutModel",
            "_view_count": null,
            "_view_module": "@jupyter-widgets/base",
            "_view_module_version": "1.2.0",
            "_view_name": "LayoutView",
            "align_content": null,
            "align_items": null,
            "align_self": null,
            "border": null,
            "bottom": null,
            "display": null,
            "flex": null,
            "flex_flow": null,
            "grid_area": null,
            "grid_auto_columns": null,
            "grid_auto_flow": null,
            "grid_auto_rows": null,
            "grid_column": null,
            "grid_gap": null,
            "grid_row": null,
            "grid_template_areas": null,
            "grid_template_columns": null,
            "grid_template_rows": null,
            "height": null,
            "justify_content": null,
            "justify_items": null,
            "left": null,
            "margin": null,
            "max_height": null,
            "max_width": null,
            "min_height": null,
            "min_width": null,
            "object_fit": null,
            "object_position": null,
            "order": null,
            "overflow": null,
            "overflow_x": null,
            "overflow_y": null,
            "padding": null,
            "right": null,
            "top": null,
            "visibility": null,
            "width": null
          }
        },
        "1be085c11b444e68b557a634dc46b61d": {
          "model_module": "@jupyter-widgets/base",
          "model_name": "LayoutModel",
          "model_module_version": "1.2.0",
          "state": {
            "_model_module": "@jupyter-widgets/base",
            "_model_module_version": "1.2.0",
            "_model_name": "LayoutModel",
            "_view_count": null,
            "_view_module": "@jupyter-widgets/base",
            "_view_module_version": "1.2.0",
            "_view_name": "LayoutView",
            "align_content": null,
            "align_items": null,
            "align_self": null,
            "border": null,
            "bottom": null,
            "display": null,
            "flex": null,
            "flex_flow": null,
            "grid_area": null,
            "grid_auto_columns": null,
            "grid_auto_flow": null,
            "grid_auto_rows": null,
            "grid_column": null,
            "grid_gap": null,
            "grid_row": null,
            "grid_template_areas": null,
            "grid_template_columns": null,
            "grid_template_rows": null,
            "height": null,
            "justify_content": null,
            "justify_items": null,
            "left": null,
            "margin": null,
            "max_height": null,
            "max_width": null,
            "min_height": null,
            "min_width": null,
            "object_fit": null,
            "object_position": null,
            "order": null,
            "overflow": null,
            "overflow_x": null,
            "overflow_y": null,
            "padding": null,
            "right": null,
            "top": null,
            "visibility": null,
            "width": null
          }
        },
        "e516ac1817e54922b2b776cfdbff505d": {
          "model_module": "@jupyter-widgets/controls",
          "model_name": "DescriptionStyleModel",
          "model_module_version": "1.5.0",
          "state": {
            "_model_module": "@jupyter-widgets/controls",
            "_model_module_version": "1.5.0",
            "_model_name": "DescriptionStyleModel",
            "_view_count": null,
            "_view_module": "@jupyter-widgets/base",
            "_view_module_version": "1.2.0",
            "_view_name": "StyleView",
            "description_width": ""
          }
        },
        "fa220337257e47dca5c6183c3c0cc80b": {
          "model_module": "@jupyter-widgets/base",
          "model_name": "LayoutModel",
          "model_module_version": "1.2.0",
          "state": {
            "_model_module": "@jupyter-widgets/base",
            "_model_module_version": "1.2.0",
            "_model_name": "LayoutModel",
            "_view_count": null,
            "_view_module": "@jupyter-widgets/base",
            "_view_module_version": "1.2.0",
            "_view_name": "LayoutView",
            "align_content": null,
            "align_items": null,
            "align_self": null,
            "border": null,
            "bottom": null,
            "display": null,
            "flex": null,
            "flex_flow": null,
            "grid_area": null,
            "grid_auto_columns": null,
            "grid_auto_flow": null,
            "grid_auto_rows": null,
            "grid_column": null,
            "grid_gap": null,
            "grid_row": null,
            "grid_template_areas": null,
            "grid_template_columns": null,
            "grid_template_rows": null,
            "height": null,
            "justify_content": null,
            "justify_items": null,
            "left": null,
            "margin": null,
            "max_height": null,
            "max_width": null,
            "min_height": null,
            "min_width": null,
            "object_fit": null,
            "object_position": null,
            "order": null,
            "overflow": null,
            "overflow_x": null,
            "overflow_y": null,
            "padding": null,
            "right": null,
            "top": null,
            "visibility": null,
            "width": null
          }
        },
        "b0f9f51db6884bd6ba519f90dde35761": {
          "model_module": "@jupyter-widgets/controls",
          "model_name": "ProgressStyleModel",
          "model_module_version": "1.5.0",
          "state": {
            "_model_module": "@jupyter-widgets/controls",
            "_model_module_version": "1.5.0",
            "_model_name": "ProgressStyleModel",
            "_view_count": null,
            "_view_module": "@jupyter-widgets/base",
            "_view_module_version": "1.2.0",
            "_view_name": "StyleView",
            "bar_color": null,
            "description_width": ""
          }
        },
        "720e076ac8944c6f87edabb348c80c6f": {
          "model_module": "@jupyter-widgets/base",
          "model_name": "LayoutModel",
          "model_module_version": "1.2.0",
          "state": {
            "_model_module": "@jupyter-widgets/base",
            "_model_module_version": "1.2.0",
            "_model_name": "LayoutModel",
            "_view_count": null,
            "_view_module": "@jupyter-widgets/base",
            "_view_module_version": "1.2.0",
            "_view_name": "LayoutView",
            "align_content": null,
            "align_items": null,
            "align_self": null,
            "border": null,
            "bottom": null,
            "display": null,
            "flex": null,
            "flex_flow": null,
            "grid_area": null,
            "grid_auto_columns": null,
            "grid_auto_flow": null,
            "grid_auto_rows": null,
            "grid_column": null,
            "grid_gap": null,
            "grid_row": null,
            "grid_template_areas": null,
            "grid_template_columns": null,
            "grid_template_rows": null,
            "height": null,
            "justify_content": null,
            "justify_items": null,
            "left": null,
            "margin": null,
            "max_height": null,
            "max_width": null,
            "min_height": null,
            "min_width": null,
            "object_fit": null,
            "object_position": null,
            "order": null,
            "overflow": null,
            "overflow_x": null,
            "overflow_y": null,
            "padding": null,
            "right": null,
            "top": null,
            "visibility": null,
            "width": null
          }
        },
        "3b06cbd96b7c4a5cb79523be6e6b132b": {
          "model_module": "@jupyter-widgets/controls",
          "model_name": "DescriptionStyleModel",
          "model_module_version": "1.5.0",
          "state": {
            "_model_module": "@jupyter-widgets/controls",
            "_model_module_version": "1.5.0",
            "_model_name": "DescriptionStyleModel",
            "_view_count": null,
            "_view_module": "@jupyter-widgets/base",
            "_view_module_version": "1.2.0",
            "_view_name": "StyleView",
            "description_width": ""
          }
        },
        "16578a8572a64ea98fd8187dc8e4527e": {
          "model_module": "@jupyter-widgets/controls",
          "model_name": "HBoxModel",
          "model_module_version": "1.5.0",
          "state": {
            "_dom_classes": [],
            "_model_module": "@jupyter-widgets/controls",
            "_model_module_version": "1.5.0",
            "_model_name": "HBoxModel",
            "_view_count": null,
            "_view_module": "@jupyter-widgets/controls",
            "_view_module_version": "1.5.0",
            "_view_name": "HBoxView",
            "box_style": "",
            "children": [
              "IPY_MODEL_4beb8810f7ca45578a0330de71425919",
              "IPY_MODEL_8159d207602b4d1e94ca5fe815b8ce3b",
              "IPY_MODEL_b970361c96ca48e6b3c826454519b755"
            ],
            "layout": "IPY_MODEL_854a3edc15d1415b84e1d45446167d89"
          }
        },
        "4beb8810f7ca45578a0330de71425919": {
          "model_module": "@jupyter-widgets/controls",
          "model_name": "HTMLModel",
          "model_module_version": "1.5.0",
          "state": {
            "_dom_classes": [],
            "_model_module": "@jupyter-widgets/controls",
            "_model_module_version": "1.5.0",
            "_model_name": "HTMLModel",
            "_view_count": null,
            "_view_module": "@jupyter-widgets/controls",
            "_view_module_version": "1.5.0",
            "_view_name": "HTMLView",
            "description": "",
            "description_tooltip": null,
            "layout": "IPY_MODEL_6bdddb76837c40a48b139dc507f40515",
            "placeholder": "​",
            "style": "IPY_MODEL_778f48b8606d4df59810f690bf0fec2b",
            "value": "tokenizer.json: 100%"
          }
        },
        "8159d207602b4d1e94ca5fe815b8ce3b": {
          "model_module": "@jupyter-widgets/controls",
          "model_name": "FloatProgressModel",
          "model_module_version": "1.5.0",
          "state": {
            "_dom_classes": [],
            "_model_module": "@jupyter-widgets/controls",
            "_model_module_version": "1.5.0",
            "_model_name": "FloatProgressModel",
            "_view_count": null,
            "_view_module": "@jupyter-widgets/controls",
            "_view_module_version": "1.5.0",
            "_view_name": "ProgressView",
            "bar_style": "success",
            "description": "",
            "description_tooltip": null,
            "layout": "IPY_MODEL_631f8d0de41843e4aa816431c26b1155",
            "max": 9081518,
            "min": 0,
            "orientation": "horizontal",
            "style": "IPY_MODEL_dd46915816fa4ba9a5f7b17fa78a8465",
            "value": 9081518
          }
        },
        "b970361c96ca48e6b3c826454519b755": {
          "model_module": "@jupyter-widgets/controls",
          "model_name": "HTMLModel",
          "model_module_version": "1.5.0",
          "state": {
            "_dom_classes": [],
            "_model_module": "@jupyter-widgets/controls",
            "_model_module_version": "1.5.0",
            "_model_name": "HTMLModel",
            "_view_count": null,
            "_view_module": "@jupyter-widgets/controls",
            "_view_module_version": "1.5.0",
            "_view_name": "HTMLView",
            "description": "",
            "description_tooltip": null,
            "layout": "IPY_MODEL_67f68b7992264de9b6168d5083ba8bc4",
            "placeholder": "​",
            "style": "IPY_MODEL_37d7b28728e74cd2a8236c2477a170bd",
            "value": " 9.08M/9.08M [00:00&lt;00:00, 16.1MB/s]"
          }
        },
        "854a3edc15d1415b84e1d45446167d89": {
          "model_module": "@jupyter-widgets/base",
          "model_name": "LayoutModel",
          "model_module_version": "1.2.0",
          "state": {
            "_model_module": "@jupyter-widgets/base",
            "_model_module_version": "1.2.0",
            "_model_name": "LayoutModel",
            "_view_count": null,
            "_view_module": "@jupyter-widgets/base",
            "_view_module_version": "1.2.0",
            "_view_name": "LayoutView",
            "align_content": null,
            "align_items": null,
            "align_self": null,
            "border": null,
            "bottom": null,
            "display": null,
            "flex": null,
            "flex_flow": null,
            "grid_area": null,
            "grid_auto_columns": null,
            "grid_auto_flow": null,
            "grid_auto_rows": null,
            "grid_column": null,
            "grid_gap": null,
            "grid_row": null,
            "grid_template_areas": null,
            "grid_template_columns": null,
            "grid_template_rows": null,
            "height": null,
            "justify_content": null,
            "justify_items": null,
            "left": null,
            "margin": null,
            "max_height": null,
            "max_width": null,
            "min_height": null,
            "min_width": null,
            "object_fit": null,
            "object_position": null,
            "order": null,
            "overflow": null,
            "overflow_x": null,
            "overflow_y": null,
            "padding": null,
            "right": null,
            "top": null,
            "visibility": null,
            "width": null
          }
        },
        "6bdddb76837c40a48b139dc507f40515": {
          "model_module": "@jupyter-widgets/base",
          "model_name": "LayoutModel",
          "model_module_version": "1.2.0",
          "state": {
            "_model_module": "@jupyter-widgets/base",
            "_model_module_version": "1.2.0",
            "_model_name": "LayoutModel",
            "_view_count": null,
            "_view_module": "@jupyter-widgets/base",
            "_view_module_version": "1.2.0",
            "_view_name": "LayoutView",
            "align_content": null,
            "align_items": null,
            "align_self": null,
            "border": null,
            "bottom": null,
            "display": null,
            "flex": null,
            "flex_flow": null,
            "grid_area": null,
            "grid_auto_columns": null,
            "grid_auto_flow": null,
            "grid_auto_rows": null,
            "grid_column": null,
            "grid_gap": null,
            "grid_row": null,
            "grid_template_areas": null,
            "grid_template_columns": null,
            "grid_template_rows": null,
            "height": null,
            "justify_content": null,
            "justify_items": null,
            "left": null,
            "margin": null,
            "max_height": null,
            "max_width": null,
            "min_height": null,
            "min_width": null,
            "object_fit": null,
            "object_position": null,
            "order": null,
            "overflow": null,
            "overflow_x": null,
            "overflow_y": null,
            "padding": null,
            "right": null,
            "top": null,
            "visibility": null,
            "width": null
          }
        },
        "778f48b8606d4df59810f690bf0fec2b": {
          "model_module": "@jupyter-widgets/controls",
          "model_name": "DescriptionStyleModel",
          "model_module_version": "1.5.0",
          "state": {
            "_model_module": "@jupyter-widgets/controls",
            "_model_module_version": "1.5.0",
            "_model_name": "DescriptionStyleModel",
            "_view_count": null,
            "_view_module": "@jupyter-widgets/base",
            "_view_module_version": "1.2.0",
            "_view_name": "StyleView",
            "description_width": ""
          }
        },
        "631f8d0de41843e4aa816431c26b1155": {
          "model_module": "@jupyter-widgets/base",
          "model_name": "LayoutModel",
          "model_module_version": "1.2.0",
          "state": {
            "_model_module": "@jupyter-widgets/base",
            "_model_module_version": "1.2.0",
            "_model_name": "LayoutModel",
            "_view_count": null,
            "_view_module": "@jupyter-widgets/base",
            "_view_module_version": "1.2.0",
            "_view_name": "LayoutView",
            "align_content": null,
            "align_items": null,
            "align_self": null,
            "border": null,
            "bottom": null,
            "display": null,
            "flex": null,
            "flex_flow": null,
            "grid_area": null,
            "grid_auto_columns": null,
            "grid_auto_flow": null,
            "grid_auto_rows": null,
            "grid_column": null,
            "grid_gap": null,
            "grid_row": null,
            "grid_template_areas": null,
            "grid_template_columns": null,
            "grid_template_rows": null,
            "height": null,
            "justify_content": null,
            "justify_items": null,
            "left": null,
            "margin": null,
            "max_height": null,
            "max_width": null,
            "min_height": null,
            "min_width": null,
            "object_fit": null,
            "object_position": null,
            "order": null,
            "overflow": null,
            "overflow_x": null,
            "overflow_y": null,
            "padding": null,
            "right": null,
            "top": null,
            "visibility": null,
            "width": null
          }
        },
        "dd46915816fa4ba9a5f7b17fa78a8465": {
          "model_module": "@jupyter-widgets/controls",
          "model_name": "ProgressStyleModel",
          "model_module_version": "1.5.0",
          "state": {
            "_model_module": "@jupyter-widgets/controls",
            "_model_module_version": "1.5.0",
            "_model_name": "ProgressStyleModel",
            "_view_count": null,
            "_view_module": "@jupyter-widgets/base",
            "_view_module_version": "1.2.0",
            "_view_name": "StyleView",
            "bar_color": null,
            "description_width": ""
          }
        },
        "67f68b7992264de9b6168d5083ba8bc4": {
          "model_module": "@jupyter-widgets/base",
          "model_name": "LayoutModel",
          "model_module_version": "1.2.0",
          "state": {
            "_model_module": "@jupyter-widgets/base",
            "_model_module_version": "1.2.0",
            "_model_name": "LayoutModel",
            "_view_count": null,
            "_view_module": "@jupyter-widgets/base",
            "_view_module_version": "1.2.0",
            "_view_name": "LayoutView",
            "align_content": null,
            "align_items": null,
            "align_self": null,
            "border": null,
            "bottom": null,
            "display": null,
            "flex": null,
            "flex_flow": null,
            "grid_area": null,
            "grid_auto_columns": null,
            "grid_auto_flow": null,
            "grid_auto_rows": null,
            "grid_column": null,
            "grid_gap": null,
            "grid_row": null,
            "grid_template_areas": null,
            "grid_template_columns": null,
            "grid_template_rows": null,
            "height": null,
            "justify_content": null,
            "justify_items": null,
            "left": null,
            "margin": null,
            "max_height": null,
            "max_width": null,
            "min_height": null,
            "min_width": null,
            "object_fit": null,
            "object_position": null,
            "order": null,
            "overflow": null,
            "overflow_x": null,
            "overflow_y": null,
            "padding": null,
            "right": null,
            "top": null,
            "visibility": null,
            "width": null
          }
        },
        "37d7b28728e74cd2a8236c2477a170bd": {
          "model_module": "@jupyter-widgets/controls",
          "model_name": "DescriptionStyleModel",
          "model_module_version": "1.5.0",
          "state": {
            "_model_module": "@jupyter-widgets/controls",
            "_model_module_version": "1.5.0",
            "_model_name": "DescriptionStyleModel",
            "_view_count": null,
            "_view_module": "@jupyter-widgets/base",
            "_view_module_version": "1.2.0",
            "_view_name": "StyleView",
            "description_width": ""
          }
        },
        "e63314387324482488bc23813edf0822": {
          "model_module": "@jupyter-widgets/controls",
          "model_name": "HBoxModel",
          "model_module_version": "1.5.0",
          "state": {
            "_dom_classes": [],
            "_model_module": "@jupyter-widgets/controls",
            "_model_module_version": "1.5.0",
            "_model_name": "HBoxModel",
            "_view_count": null,
            "_view_module": "@jupyter-widgets/controls",
            "_view_module_version": "1.5.0",
            "_view_name": "HBoxView",
            "box_style": "",
            "children": [
              "IPY_MODEL_2c773e8a0c7d40069b5aa18264838b06",
              "IPY_MODEL_bb9dad3bfc4f4fd9b732983f485c0307",
              "IPY_MODEL_f008a52489a74e2c92e466edbf79fb3c"
            ],
            "layout": "IPY_MODEL_8af3828a35cf404cb5a49ced4151a756"
          }
        },
        "2c773e8a0c7d40069b5aa18264838b06": {
          "model_module": "@jupyter-widgets/controls",
          "model_name": "HTMLModel",
          "model_module_version": "1.5.0",
          "state": {
            "_dom_classes": [],
            "_model_module": "@jupyter-widgets/controls",
            "_model_module_version": "1.5.0",
            "_model_name": "HTMLModel",
            "_view_count": null,
            "_view_module": "@jupyter-widgets/controls",
            "_view_module_version": "1.5.0",
            "_view_name": "HTMLView",
            "description": "",
            "description_tooltip": null,
            "layout": "IPY_MODEL_2b44c8e811ac43a6a35b47a3cbe124cc",
            "placeholder": "​",
            "style": "IPY_MODEL_8fd1be97eed349039ae293e62338d98d",
            "value": "special_tokens_map.json: 100%"
          }
        },
        "bb9dad3bfc4f4fd9b732983f485c0307": {
          "model_module": "@jupyter-widgets/controls",
          "model_name": "FloatProgressModel",
          "model_module_version": "1.5.0",
          "state": {
            "_dom_classes": [],
            "_model_module": "@jupyter-widgets/controls",
            "_model_module_version": "1.5.0",
            "_model_name": "FloatProgressModel",
            "_view_count": null,
            "_view_module": "@jupyter-widgets/controls",
            "_view_module_version": "1.5.0",
            "_view_name": "ProgressView",
            "bar_style": "success",
            "description": "",
            "description_tooltip": null,
            "layout": "IPY_MODEL_51dd9a9ac1a345bd9b8f388f98a5940f",
            "max": 239,
            "min": 0,
            "orientation": "horizontal",
            "style": "IPY_MODEL_15d1bbba433642e4a7318d928baaa153",
            "value": 239
          }
        },
        "f008a52489a74e2c92e466edbf79fb3c": {
          "model_module": "@jupyter-widgets/controls",
          "model_name": "HTMLModel",
          "model_module_version": "1.5.0",
          "state": {
            "_dom_classes": [],
            "_model_module": "@jupyter-widgets/controls",
            "_model_module_version": "1.5.0",
            "_model_name": "HTMLModel",
            "_view_count": null,
            "_view_module": "@jupyter-widgets/controls",
            "_view_module_version": "1.5.0",
            "_view_name": "HTMLView",
            "description": "",
            "description_tooltip": null,
            "layout": "IPY_MODEL_6e8392d314be4767b2fa8e712553a5f3",
            "placeholder": "​",
            "style": "IPY_MODEL_d6532151eef647ee84196b3664c00c31",
            "value": " 239/239 [00:00&lt;00:00, 10.2kB/s]"
          }
        },
        "8af3828a35cf404cb5a49ced4151a756": {
          "model_module": "@jupyter-widgets/base",
          "model_name": "LayoutModel",
          "model_module_version": "1.2.0",
          "state": {
            "_model_module": "@jupyter-widgets/base",
            "_model_module_version": "1.2.0",
            "_model_name": "LayoutModel",
            "_view_count": null,
            "_view_module": "@jupyter-widgets/base",
            "_view_module_version": "1.2.0",
            "_view_name": "LayoutView",
            "align_content": null,
            "align_items": null,
            "align_self": null,
            "border": null,
            "bottom": null,
            "display": null,
            "flex": null,
            "flex_flow": null,
            "grid_area": null,
            "grid_auto_columns": null,
            "grid_auto_flow": null,
            "grid_auto_rows": null,
            "grid_column": null,
            "grid_gap": null,
            "grid_row": null,
            "grid_template_areas": null,
            "grid_template_columns": null,
            "grid_template_rows": null,
            "height": null,
            "justify_content": null,
            "justify_items": null,
            "left": null,
            "margin": null,
            "max_height": null,
            "max_width": null,
            "min_height": null,
            "min_width": null,
            "object_fit": null,
            "object_position": null,
            "order": null,
            "overflow": null,
            "overflow_x": null,
            "overflow_y": null,
            "padding": null,
            "right": null,
            "top": null,
            "visibility": null,
            "width": null
          }
        },
        "2b44c8e811ac43a6a35b47a3cbe124cc": {
          "model_module": "@jupyter-widgets/base",
          "model_name": "LayoutModel",
          "model_module_version": "1.2.0",
          "state": {
            "_model_module": "@jupyter-widgets/base",
            "_model_module_version": "1.2.0",
            "_model_name": "LayoutModel",
            "_view_count": null,
            "_view_module": "@jupyter-widgets/base",
            "_view_module_version": "1.2.0",
            "_view_name": "LayoutView",
            "align_content": null,
            "align_items": null,
            "align_self": null,
            "border": null,
            "bottom": null,
            "display": null,
            "flex": null,
            "flex_flow": null,
            "grid_area": null,
            "grid_auto_columns": null,
            "grid_auto_flow": null,
            "grid_auto_rows": null,
            "grid_column": null,
            "grid_gap": null,
            "grid_row": null,
            "grid_template_areas": null,
            "grid_template_columns": null,
            "grid_template_rows": null,
            "height": null,
            "justify_content": null,
            "justify_items": null,
            "left": null,
            "margin": null,
            "max_height": null,
            "max_width": null,
            "min_height": null,
            "min_width": null,
            "object_fit": null,
            "object_position": null,
            "order": null,
            "overflow": null,
            "overflow_x": null,
            "overflow_y": null,
            "padding": null,
            "right": null,
            "top": null,
            "visibility": null,
            "width": null
          }
        },
        "8fd1be97eed349039ae293e62338d98d": {
          "model_module": "@jupyter-widgets/controls",
          "model_name": "DescriptionStyleModel",
          "model_module_version": "1.5.0",
          "state": {
            "_model_module": "@jupyter-widgets/controls",
            "_model_module_version": "1.5.0",
            "_model_name": "DescriptionStyleModel",
            "_view_count": null,
            "_view_module": "@jupyter-widgets/base",
            "_view_module_version": "1.2.0",
            "_view_name": "StyleView",
            "description_width": ""
          }
        },
        "51dd9a9ac1a345bd9b8f388f98a5940f": {
          "model_module": "@jupyter-widgets/base",
          "model_name": "LayoutModel",
          "model_module_version": "1.2.0",
          "state": {
            "_model_module": "@jupyter-widgets/base",
            "_model_module_version": "1.2.0",
            "_model_name": "LayoutModel",
            "_view_count": null,
            "_view_module": "@jupyter-widgets/base",
            "_view_module_version": "1.2.0",
            "_view_name": "LayoutView",
            "align_content": null,
            "align_items": null,
            "align_self": null,
            "border": null,
            "bottom": null,
            "display": null,
            "flex": null,
            "flex_flow": null,
            "grid_area": null,
            "grid_auto_columns": null,
            "grid_auto_flow": null,
            "grid_auto_rows": null,
            "grid_column": null,
            "grid_gap": null,
            "grid_row": null,
            "grid_template_areas": null,
            "grid_template_columns": null,
            "grid_template_rows": null,
            "height": null,
            "justify_content": null,
            "justify_items": null,
            "left": null,
            "margin": null,
            "max_height": null,
            "max_width": null,
            "min_height": null,
            "min_width": null,
            "object_fit": null,
            "object_position": null,
            "order": null,
            "overflow": null,
            "overflow_x": null,
            "overflow_y": null,
            "padding": null,
            "right": null,
            "top": null,
            "visibility": null,
            "width": null
          }
        },
        "15d1bbba433642e4a7318d928baaa153": {
          "model_module": "@jupyter-widgets/controls",
          "model_name": "ProgressStyleModel",
          "model_module_version": "1.5.0",
          "state": {
            "_model_module": "@jupyter-widgets/controls",
            "_model_module_version": "1.5.0",
            "_model_name": "ProgressStyleModel",
            "_view_count": null,
            "_view_module": "@jupyter-widgets/base",
            "_view_module_version": "1.2.0",
            "_view_name": "StyleView",
            "bar_color": null,
            "description_width": ""
          }
        },
        "6e8392d314be4767b2fa8e712553a5f3": {
          "model_module": "@jupyter-widgets/base",
          "model_name": "LayoutModel",
          "model_module_version": "1.2.0",
          "state": {
            "_model_module": "@jupyter-widgets/base",
            "_model_module_version": "1.2.0",
            "_model_name": "LayoutModel",
            "_view_count": null,
            "_view_module": "@jupyter-widgets/base",
            "_view_module_version": "1.2.0",
            "_view_name": "LayoutView",
            "align_content": null,
            "align_items": null,
            "align_self": null,
            "border": null,
            "bottom": null,
            "display": null,
            "flex": null,
            "flex_flow": null,
            "grid_area": null,
            "grid_auto_columns": null,
            "grid_auto_flow": null,
            "grid_auto_rows": null,
            "grid_column": null,
            "grid_gap": null,
            "grid_row": null,
            "grid_template_areas": null,
            "grid_template_columns": null,
            "grid_template_rows": null,
            "height": null,
            "justify_content": null,
            "justify_items": null,
            "left": null,
            "margin": null,
            "max_height": null,
            "max_width": null,
            "min_height": null,
            "min_width": null,
            "object_fit": null,
            "object_position": null,
            "order": null,
            "overflow": null,
            "overflow_x": null,
            "overflow_y": null,
            "padding": null,
            "right": null,
            "top": null,
            "visibility": null,
            "width": null
          }
        },
        "d6532151eef647ee84196b3664c00c31": {
          "model_module": "@jupyter-widgets/controls",
          "model_name": "DescriptionStyleModel",
          "model_module_version": "1.5.0",
          "state": {
            "_model_module": "@jupyter-widgets/controls",
            "_model_module_version": "1.5.0",
            "_model_name": "DescriptionStyleModel",
            "_view_count": null,
            "_view_module": "@jupyter-widgets/base",
            "_view_module_version": "1.2.0",
            "_view_name": "StyleView",
            "description_width": ""
          }
        },
        "0b1f7cc13f0f4eaa90ce43e5c3005926": {
          "model_module": "@jupyter-widgets/controls",
          "model_name": "HBoxModel",
          "model_module_version": "1.5.0",
          "state": {
            "_dom_classes": [],
            "_model_module": "@jupyter-widgets/controls",
            "_model_module_version": "1.5.0",
            "_model_name": "HBoxModel",
            "_view_count": null,
            "_view_module": "@jupyter-widgets/controls",
            "_view_module_version": "1.5.0",
            "_view_name": "HBoxView",
            "box_style": "",
            "children": [
              "IPY_MODEL_95cbbb937a50420c8eb61d5f451a55e1",
              "IPY_MODEL_06bb38a7174c4d97b98a805c361c9d3b",
              "IPY_MODEL_977e58e7978e4345825945401b3364dc"
            ],
            "layout": "IPY_MODEL_407a9b0e624e402a8c01c67cc7eab036"
          }
        },
        "95cbbb937a50420c8eb61d5f451a55e1": {
          "model_module": "@jupyter-widgets/controls",
          "model_name": "HTMLModel",
          "model_module_version": "1.5.0",
          "state": {
            "_dom_classes": [],
            "_model_module": "@jupyter-widgets/controls",
            "_model_module_version": "1.5.0",
            "_model_name": "HTMLModel",
            "_view_count": null,
            "_view_module": "@jupyter-widgets/controls",
            "_view_module_version": "1.5.0",
            "_view_name": "HTMLView",
            "description": "",
            "description_tooltip": null,
            "layout": "IPY_MODEL_00a7b224812a4cc9b179fd51f002825a",
            "placeholder": "​",
            "style": "IPY_MODEL_8d630c63ddef4e7f8e43706d15ccb160",
            "value": "config.json: 100%"
          }
        },
        "06bb38a7174c4d97b98a805c361c9d3b": {
          "model_module": "@jupyter-widgets/controls",
          "model_name": "FloatProgressModel",
          "model_module_version": "1.5.0",
          "state": {
            "_dom_classes": [],
            "_model_module": "@jupyter-widgets/controls",
            "_model_module_version": "1.5.0",
            "_model_name": "FloatProgressModel",
            "_view_count": null,
            "_view_module": "@jupyter-widgets/controls",
            "_view_module_version": "1.5.0",
            "_view_name": "ProgressView",
            "bar_style": "success",
            "description": "",
            "description_tooltip": null,
            "layout": "IPY_MODEL_144276f69857478d9bd67c9d9de19567",
            "max": 190,
            "min": 0,
            "orientation": "horizontal",
            "style": "IPY_MODEL_d4fdf52385be47469bc64a323a4a90a8",
            "value": 190
          }
        },
        "977e58e7978e4345825945401b3364dc": {
          "model_module": "@jupyter-widgets/controls",
          "model_name": "HTMLModel",
          "model_module_version": "1.5.0",
          "state": {
            "_dom_classes": [],
            "_model_module": "@jupyter-widgets/controls",
            "_model_module_version": "1.5.0",
            "_model_name": "HTMLModel",
            "_view_count": null,
            "_view_module": "@jupyter-widgets/controls",
            "_view_module_version": "1.5.0",
            "_view_name": "HTMLView",
            "description": "",
            "description_tooltip": null,
            "layout": "IPY_MODEL_7557e8550d864842a42fb61ae0525541",
            "placeholder": "​",
            "style": "IPY_MODEL_3686ee6c884a42d192cc3265bf32bae2",
            "value": " 190/190 [00:00&lt;00:00, 15.8kB/s]"
          }
        },
        "407a9b0e624e402a8c01c67cc7eab036": {
          "model_module": "@jupyter-widgets/base",
          "model_name": "LayoutModel",
          "model_module_version": "1.2.0",
          "state": {
            "_model_module": "@jupyter-widgets/base",
            "_model_module_version": "1.2.0",
            "_model_name": "LayoutModel",
            "_view_count": null,
            "_view_module": "@jupyter-widgets/base",
            "_view_module_version": "1.2.0",
            "_view_name": "LayoutView",
            "align_content": null,
            "align_items": null,
            "align_self": null,
            "border": null,
            "bottom": null,
            "display": null,
            "flex": null,
            "flex_flow": null,
            "grid_area": null,
            "grid_auto_columns": null,
            "grid_auto_flow": null,
            "grid_auto_rows": null,
            "grid_column": null,
            "grid_gap": null,
            "grid_row": null,
            "grid_template_areas": null,
            "grid_template_columns": null,
            "grid_template_rows": null,
            "height": null,
            "justify_content": null,
            "justify_items": null,
            "left": null,
            "margin": null,
            "max_height": null,
            "max_width": null,
            "min_height": null,
            "min_width": null,
            "object_fit": null,
            "object_position": null,
            "order": null,
            "overflow": null,
            "overflow_x": null,
            "overflow_y": null,
            "padding": null,
            "right": null,
            "top": null,
            "visibility": null,
            "width": null
          }
        },
        "00a7b224812a4cc9b179fd51f002825a": {
          "model_module": "@jupyter-widgets/base",
          "model_name": "LayoutModel",
          "model_module_version": "1.2.0",
          "state": {
            "_model_module": "@jupyter-widgets/base",
            "_model_module_version": "1.2.0",
            "_model_name": "LayoutModel",
            "_view_count": null,
            "_view_module": "@jupyter-widgets/base",
            "_view_module_version": "1.2.0",
            "_view_name": "LayoutView",
            "align_content": null,
            "align_items": null,
            "align_self": null,
            "border": null,
            "bottom": null,
            "display": null,
            "flex": null,
            "flex_flow": null,
            "grid_area": null,
            "grid_auto_columns": null,
            "grid_auto_flow": null,
            "grid_auto_rows": null,
            "grid_column": null,
            "grid_gap": null,
            "grid_row": null,
            "grid_template_areas": null,
            "grid_template_columns": null,
            "grid_template_rows": null,
            "height": null,
            "justify_content": null,
            "justify_items": null,
            "left": null,
            "margin": null,
            "max_height": null,
            "max_width": null,
            "min_height": null,
            "min_width": null,
            "object_fit": null,
            "object_position": null,
            "order": null,
            "overflow": null,
            "overflow_x": null,
            "overflow_y": null,
            "padding": null,
            "right": null,
            "top": null,
            "visibility": null,
            "width": null
          }
        },
        "8d630c63ddef4e7f8e43706d15ccb160": {
          "model_module": "@jupyter-widgets/controls",
          "model_name": "DescriptionStyleModel",
          "model_module_version": "1.5.0",
          "state": {
            "_model_module": "@jupyter-widgets/controls",
            "_model_module_version": "1.5.0",
            "_model_name": "DescriptionStyleModel",
            "_view_count": null,
            "_view_module": "@jupyter-widgets/base",
            "_view_module_version": "1.2.0",
            "_view_name": "StyleView",
            "description_width": ""
          }
        },
        "144276f69857478d9bd67c9d9de19567": {
          "model_module": "@jupyter-widgets/base",
          "model_name": "LayoutModel",
          "model_module_version": "1.2.0",
          "state": {
            "_model_module": "@jupyter-widgets/base",
            "_model_module_version": "1.2.0",
            "_model_name": "LayoutModel",
            "_view_count": null,
            "_view_module": "@jupyter-widgets/base",
            "_view_module_version": "1.2.0",
            "_view_name": "LayoutView",
            "align_content": null,
            "align_items": null,
            "align_self": null,
            "border": null,
            "bottom": null,
            "display": null,
            "flex": null,
            "flex_flow": null,
            "grid_area": null,
            "grid_auto_columns": null,
            "grid_auto_flow": null,
            "grid_auto_rows": null,
            "grid_column": null,
            "grid_gap": null,
            "grid_row": null,
            "grid_template_areas": null,
            "grid_template_columns": null,
            "grid_template_rows": null,
            "height": null,
            "justify_content": null,
            "justify_items": null,
            "left": null,
            "margin": null,
            "max_height": null,
            "max_width": null,
            "min_height": null,
            "min_width": null,
            "object_fit": null,
            "object_position": null,
            "order": null,
            "overflow": null,
            "overflow_x": null,
            "overflow_y": null,
            "padding": null,
            "right": null,
            "top": null,
            "visibility": null,
            "width": null
          }
        },
        "d4fdf52385be47469bc64a323a4a90a8": {
          "model_module": "@jupyter-widgets/controls",
          "model_name": "ProgressStyleModel",
          "model_module_version": "1.5.0",
          "state": {
            "_model_module": "@jupyter-widgets/controls",
            "_model_module_version": "1.5.0",
            "_model_name": "ProgressStyleModel",
            "_view_count": null,
            "_view_module": "@jupyter-widgets/base",
            "_view_module_version": "1.2.0",
            "_view_name": "StyleView",
            "bar_color": null,
            "description_width": ""
          }
        },
        "7557e8550d864842a42fb61ae0525541": {
          "model_module": "@jupyter-widgets/base",
          "model_name": "LayoutModel",
          "model_module_version": "1.2.0",
          "state": {
            "_model_module": "@jupyter-widgets/base",
            "_model_module_version": "1.2.0",
            "_model_name": "LayoutModel",
            "_view_count": null,
            "_view_module": "@jupyter-widgets/base",
            "_view_module_version": "1.2.0",
            "_view_name": "LayoutView",
            "align_content": null,
            "align_items": null,
            "align_self": null,
            "border": null,
            "bottom": null,
            "display": null,
            "flex": null,
            "flex_flow": null,
            "grid_area": null,
            "grid_auto_columns": null,
            "grid_auto_flow": null,
            "grid_auto_rows": null,
            "grid_column": null,
            "grid_gap": null,
            "grid_row": null,
            "grid_template_areas": null,
            "grid_template_columns": null,
            "grid_template_rows": null,
            "height": null,
            "justify_content": null,
            "justify_items": null,
            "left": null,
            "margin": null,
            "max_height": null,
            "max_width": null,
            "min_height": null,
            "min_width": null,
            "object_fit": null,
            "object_position": null,
            "order": null,
            "overflow": null,
            "overflow_x": null,
            "overflow_y": null,
            "padding": null,
            "right": null,
            "top": null,
            "visibility": null,
            "width": null
          }
        },
        "3686ee6c884a42d192cc3265bf32bae2": {
          "model_module": "@jupyter-widgets/controls",
          "model_name": "DescriptionStyleModel",
          "model_module_version": "1.5.0",
          "state": {
            "_model_module": "@jupyter-widgets/controls",
            "_model_module_version": "1.5.0",
            "_model_name": "DescriptionStyleModel",
            "_view_count": null,
            "_view_module": "@jupyter-widgets/base",
            "_view_module_version": "1.2.0",
            "_view_name": "StyleView",
            "description_width": ""
          }
        }
      }
    }
  },
  "nbformat": 4,
  "nbformat_minor": 5
}